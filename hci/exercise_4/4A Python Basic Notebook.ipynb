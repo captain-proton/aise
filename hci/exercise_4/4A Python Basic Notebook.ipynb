{
 "cells": [
  {
   "cell_type": "code",
   "execution_count": 1,
   "metadata": {},
   "outputs": [],
   "source": [
    "#import libraries:\n",
    "import numpy as np"
   ]
  },
  {
   "cell_type": "code",
   "execution_count": 2,
   "metadata": {},
   "outputs": [
    {
     "name": "stdout",
     "output_type": "stream",
     "text": [
      "This is a cell\n",
      "Press Strg + ENTER to execute the current cell!\n",
      "Press Shift + ENTER to execute the current cell and jump to the next cell!\n"
     ]
    }
   ],
   "source": [
    "print(\"This is a cell\")\n",
    "print(\"Press Strg + ENTER to execute the current cell!\")\n",
    "print(\"Press Shift + ENTER to execute the current cell and jump to the next cell!\")"
   ]
  },
  {
   "cell_type": "code",
   "execution_count": 3,
   "metadata": {},
   "outputs": [
    {
     "name": "stdout",
     "output_type": "stream",
     "text": [
      "An average example in python\n",
      "M= 3.0\n",
      "num at 2: 3\n",
      "\n",
      "Dictionaries are useful!\n",
      "Whole dict: {'key': 'value'}\n",
      "dict with key: value\n"
     ]
    }
   ],
   "source": [
    "print(\"An average example in python\")\n",
    "\n",
    "var = 5 # variable\n",
    "\n",
    "list_of_numbers = [1, 2, 3, 4, var] # a list of numbers\n",
    "\n",
    "mean = np.mean(list_of_numbers) # calculating the average\n",
    "\n",
    "print(\"M=\", mean) # printing the result\n",
    "\n",
    "print(\"num at 2:\", list_of_numbers[2]) # indexing\n",
    "\n",
    "print() # just a new line\n",
    "\n",
    "print(\"Dictionaries are useful!\")\n",
    "d = dict()\n",
    "\n",
    "d[\"key\"] = \"value\" # storing something in the dict with key\n",
    "\n",
    "print(\"Whole dict:\", d)\n",
    "print(\"dict with key:\", d[\"key\"])"
   ]
  },
  {
   "cell_type": "code",
   "execution_count": 4,
   "metadata": {},
   "outputs": [
    {
     "name": "stdout",
     "output_type": "stream",
     "text": [
      "p1 [1, 2, 3] {'set', 'is', 'this', 'a'}\n"
     ]
    }
   ],
   "source": [
    "# Define a function like this\n",
    "def func(param1, param2, and_so_on):\n",
    "    print(param1, param2, and_so_on)\n",
    "\n",
    "\n",
    "# Then call it\n",
    "func(\"p1\", [1, 2, 3], {\"this\", \"is\", \"a\", \"a\", \"a\", \"set\"})    "
   ]
  },
  {
   "cell_type": "code",
   "execution_count": 5,
   "metadata": {},
   "outputs": [
    {
     "name": "stdout",
     "output_type": "stream",
     "text": [
      "solving P vs NP\n",
      "working...\n",
      "working...\n",
      "working...\n",
      "working...\n",
      "working...\n",
      "working...\n",
      "working...\n",
      "working...\n",
      "working...\n",
      "working...\n",
      "Done!\n",
      "¯\\_(ツ)_/¯ but my IQ is 9001\n"
     ]
    }
   ],
   "source": [
    "# Define classes like this\n",
    "\n",
    "class AI:\n",
    "    \n",
    "    # init function for declaring all the variables of the class\n",
    "    def __init__(self):\n",
    "        self.iq = 9001\n",
    "        \n",
    "    # a function of the class\n",
    "    def solve_problem(self, p):\n",
    "        print(\"solving\", p)\n",
    "        self.process_something(10)\n",
    "        return \"¯\\_(ツ)_/¯ but my IQ is \" + str(self.iq)\n",
    "    \n",
    "    def process_something(self, n):\n",
    "        for i in range(n):      # for - loop\n",
    "            print(\"working...\")\n",
    "            if i == 9 and i is 9: # if - statement   \n",
    "                print(\"Done!\")\n",
    "        \n",
    "ai = AI()\n",
    "\n",
    "print(ai.solve_problem(\"P vs NP\"))"
   ]
  },
  {
   "cell_type": "code",
   "execution_count": 6,
   "metadata": {},
   "outputs": [
    {
     "name": "stdout",
     "output_type": "stream",
     "text": [
      "Basic Maths with numpy\n",
      "a = 4\n",
      "16\n",
      "17\n",
      "16\n",
      "4.0\n",
      "2.0\n",
      "And so on and so on...\n"
     ]
    }
   ],
   "source": [
    "print(\"Basic Maths with numpy\")\n",
    "\n",
    "a = 4\n",
    "print(\"a =\", a)\n",
    "\n",
    "result = np.power(a, 2) # b to the power of 2\n",
    "print(result)\n",
    "\n",
    "result += 1 # increment\n",
    "print(result)\n",
    "\n",
    "result -= 1 #decrement\n",
    "print(result)\n",
    "\n",
    "result = np.log2(result) # logarithmus dualis\n",
    "print(result)\n",
    "\n",
    "result = np.sqrt(result) # square root\n",
    "print(result)\n",
    "\n",
    "while True: # while true loop\n",
    "    print(\"And so on and so on...\")\n",
    "    break # break the loop\n"
   ]
  }
 ],
 "metadata": {
  "kernelspec": {
   "display_name": "Python 3",
   "language": "python",
   "name": "python3"
  },
  "language_info": {
   "codemirror_mode": {
    "name": "ipython",
    "version": 3
   },
   "file_extension": ".py",
   "mimetype": "text/x-python",
   "name": "python",
   "nbconvert_exporter": "python",
   "pygments_lexer": "ipython3",
   "version": "3.7.4"
  }
 },
 "nbformat": 4,
 "nbformat_minor": 2
}
