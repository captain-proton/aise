{
 "cells": [
  {
   "cell_type": "markdown",
   "metadata": {},
   "source": [
    "### Test application\n",
    "\n",
    "![FittsLaw](fitts_law_test_application.png)\n",
    "\n",
    "Mouse and touchpad input were tested on full hd screens with 24\" and 14\"."
   ]
  },
  {
   "cell_type": "code",
   "execution_count": 1,
   "metadata": {},
   "outputs": [],
   "source": [
    "files = ['clicks_2020-01-24 09:48:51_touchpad_14\"_monitor.csv',\n",
    "         'clicks_2020-01-24 09:44:46_mouse_24\"_monitor.csv',\n",
    "         'clicks_2020-01-23 16:00:32_mouse_24\"_monitor.csv']"
   ]
  },
  {
   "cell_type": "markdown",
   "metadata": {},
   "source": [
    "Test data from the application loaded into a simple data container. One row contains the data of a click. If not changed the first file from `files` is loaded.\n",
    "\n",
    "\n",
    "| circle_x | circle_y | click_x | click_y | timestamp                 | radius |\n",
    "|----------|----------|---------|---------|---------------------------|--------|\n",
    "| 391      | 207      | 426     | 232     | 2020-01-23 15:59:09.367584| 30     |"
   ]
  },
  {
   "cell_type": "code",
   "execution_count": 2,
   "metadata": {},
   "outputs": [],
   "source": [
    "import csv\n",
    "import numpy as np\n",
    "import pandas as pd\n",
    "from dataclasses import dataclass\n",
    "from datetime import datetime, timedelta"
   ]
  },
  {
   "cell_type": "code",
   "execution_count": 3,
   "metadata": {},
   "outputs": [],
   "source": [
    "@dataclass\n",
    "class CircleClick():\n",
    "    circle_x: int\n",
    "    circle_y: int\n",
    "    click_x: int\n",
    "    click_y: int\n",
    "    radius: int\n",
    "    timestamp: datetime"
   ]
  },
  {
   "cell_type": "code",
   "execution_count": 4,
   "metadata": {},
   "outputs": [],
   "source": [
    "clicks = []\n",
    "with open(files[0]) as src:\n",
    "    reader = csv.reader(src)\n",
    "    for row in reader:\n",
    "        circle_click = CircleClick(circle_x=int(row[0]), circle_y=int(row[1]), \n",
    "                                   click_x=int(row[2]), click_y=int(row[3]),\n",
    "                                   timestamp=datetime.strptime(row[4], '%Y-%m-%d %H:%M:%S.%f'),\n",
    "                                   radius=int(row[5]))\n",
    "        clicks.append(circle_click)"
   ]
  },
  {
   "cell_type": "code",
   "execution_count": 5,
   "metadata": {},
   "outputs": [
    {
     "data": {
      "text/plain": [
       "CircleClick(circle_x=164, circle_y=95, click_x=214, click_y=161, radius=50, timestamp=datetime.datetime(2020, 1, 24, 9, 46, 57, 626993))"
      ]
     },
     "execution_count": 5,
     "metadata": {},
     "output_type": "execute_result"
    }
   ],
   "source": [
    "clicks[0]"
   ]
  },
  {
   "cell_type": "markdown",
   "metadata": {},
   "source": [
    "*ID* is the index of difficulty.\n",
    "\n",
    "$ID = \\log_2 \\left(\\dfrac{2D}{W}\\right)$\n",
    "\n",
    "---\n",
    "\n",
    "*D* is the distance from the starting point to the center of the target.\n",
    "\n",
    "---\n",
    "\n",
    "*W* is the width of the target measured along the axis of motion. W can also be thought of as the allowed error tolerance in the final position, since the final point of the motion must fall within $\\pm \\frac{W}{2}$ of the target's center.\n",
    "\n",
    "---\n",
    "\n",
    "*MT* is the average time to complete the movement.\n",
    "\n",
    "a and b are constants that depend on the choice of input device and are usually determined empirically by regression analysis. a defines the intersection on the y-axis and is often as interpreted as a delay. The b-parameter is a slope and describes an acceleration. Both paramters show the linear dependency in Fitts' Law.\n",
    "\n",
    "$MT = a + b \\cdot ID = a + b \\cdot \\log_2 \\left(\\dfrac{2D}{W}\\right) $"
   ]
  },
  {
   "cell_type": "code",
   "execution_count": 19,
   "metadata": {},
   "outputs": [
    {
     "data": {
      "text/plain": [
       "1.4142135623730951"
      ]
     },
     "execution_count": 19,
     "metadata": {},
     "output_type": "execute_result"
    }
   ],
   "source": [
    "def distance(x1: int, x2: int, y1: int, y2: int):\n",
    "    a = np.power(x1 - x2, 2)\n",
    "    b = np.power(y1 - y2, 2)\n",
    "    distance = np.sqrt(a + b)\n",
    "    return distance\n",
    "\n",
    "distance(0, 1, 0, 1)"
   ]
  },
  {
   "cell_type": "code",
   "execution_count": 20,
   "metadata": {},
   "outputs": [],
   "source": [
    "@dataclass \n",
    "class FittsModel:\n",
    "    \n",
    "    D: float = 0\n",
    "    W: float = 0\n",
    "    ID: float = 0\n",
    "    MT: timedelta = timedelta(0)\n",
    "        \n",
    "    def calculate(self, start: CircleClick, end: CircleClick):\n",
    "        \"\"\"The model calculates its values D, W, ID and MT\n",
    "        based on two clicks\"\"\"\n",
    "        self.D = distance(start.click_x, \n",
    "                          end.circle_x + end.radius,\n",
    "                          start.click_y,\n",
    "                          end.circle_y + end.radius)\n",
    "        self.W = end.radius * 2\n",
    "        self.ID = np.log2(2 * self.D / self.W)\n",
    "        self.MT = end.timestamp - start.timestamp\n",
    "    \n",
    "    @property\n",
    "    def MT_in_millis(self):\n",
    "        millis, micros = divmod(self.MT.microseconds, 1000)\n",
    "        return self.MT.total_seconds() * 1000 + millis + micros / 1000"
   ]
  },
  {
   "cell_type": "markdown",
   "metadata": {},
   "source": [
    "Calculate all models that can be drawn on the graph later on."
   ]
  },
  {
   "cell_type": "code",
   "execution_count": 22,
   "metadata": {},
   "outputs": [
    {
     "data": {
      "text/plain": [
       "FittsModel(D=442.52570546805526, W=20, ID=5.467689355900316, MT=datetime.timedelta(seconds=1, microseconds=54753))"
      ]
     },
     "execution_count": 22,
     "metadata": {},
     "output_type": "execute_result"
    }
   ],
   "source": [
    "models = []\n",
    "for i in range(1, len(clicks)):\n",
    "    model = FittsModel()\n",
    "    model.calculate(clicks[i - 1], clicks[i])\n",
    "    models.append(model)\n",
    "    \n",
    "models[0]"
   ]
  },
  {
   "cell_type": "markdown",
   "metadata": {},
   "source": [
    "All data is put into a pandas dataframe for easier selection and matplot drawing"
   ]
  },
  {
   "cell_type": "code",
   "execution_count": 9,
   "metadata": {},
   "outputs": [
    {
     "data": {
      "text/html": [
       "<div>\n",
       "<style scoped>\n",
       "    .dataframe tbody tr th:only-of-type {\n",
       "        vertical-align: middle;\n",
       "    }\n",
       "\n",
       "    .dataframe tbody tr th {\n",
       "        vertical-align: top;\n",
       "    }\n",
       "\n",
       "    .dataframe thead th {\n",
       "        text-align: right;\n",
       "    }\n",
       "</style>\n",
       "<table border=\"1\" class=\"dataframe\">\n",
       "  <thead>\n",
       "    <tr style=\"text-align: right;\">\n",
       "      <th></th>\n",
       "      <th>D</th>\n",
       "      <th>W</th>\n",
       "      <th>ID</th>\n",
       "      <th>MT</th>\n",
       "    </tr>\n",
       "  </thead>\n",
       "  <tbody>\n",
       "    <tr>\n",
       "      <th>0</th>\n",
       "      <td>442.525705</td>\n",
       "      <td>20</td>\n",
       "      <td>5.467689</td>\n",
       "      <td>1109.506</td>\n",
       "    </tr>\n",
       "    <tr>\n",
       "      <th>1</th>\n",
       "      <td>457.787068</td>\n",
       "      <td>60</td>\n",
       "      <td>3.931642</td>\n",
       "      <td>1273.220</td>\n",
       "    </tr>\n",
       "    <tr>\n",
       "      <th>2</th>\n",
       "      <td>899.093988</td>\n",
       "      <td>100</td>\n",
       "      <td>4.168472</td>\n",
       "      <td>1684.354</td>\n",
       "    </tr>\n",
       "    <tr>\n",
       "      <th>3</th>\n",
       "      <td>1449.593736</td>\n",
       "      <td>60</td>\n",
       "      <td>5.594542</td>\n",
       "      <td>1582.688</td>\n",
       "    </tr>\n",
       "    <tr>\n",
       "      <th>4</th>\n",
       "      <td>1355.389981</td>\n",
       "      <td>20</td>\n",
       "      <td>7.082564</td>\n",
       "      <td>2196.954</td>\n",
       "    </tr>\n",
       "    <tr>\n",
       "      <th>...</th>\n",
       "      <td>...</td>\n",
       "      <td>...</td>\n",
       "      <td>...</td>\n",
       "      <td>...</td>\n",
       "    </tr>\n",
       "    <tr>\n",
       "      <th>84</th>\n",
       "      <td>458.132077</td>\n",
       "      <td>100</td>\n",
       "      <td>3.195764</td>\n",
       "      <td>1538.216</td>\n",
       "    </tr>\n",
       "    <tr>\n",
       "      <th>85</th>\n",
       "      <td>389.790970</td>\n",
       "      <td>60</td>\n",
       "      <td>3.699666</td>\n",
       "      <td>1359.228</td>\n",
       "    </tr>\n",
       "    <tr>\n",
       "      <th>86</th>\n",
       "      <td>1154.291124</td>\n",
       "      <td>60</td>\n",
       "      <td>5.265901</td>\n",
       "      <td>1851.240</td>\n",
       "    </tr>\n",
       "    <tr>\n",
       "      <th>87</th>\n",
       "      <td>626.247555</td>\n",
       "      <td>100</td>\n",
       "      <td>3.646733</td>\n",
       "      <td>1688.028</td>\n",
       "    </tr>\n",
       "    <tr>\n",
       "      <th>88</th>\n",
       "      <td>617.728905</td>\n",
       "      <td>100</td>\n",
       "      <td>3.626974</td>\n",
       "      <td>1235.558</td>\n",
       "    </tr>\n",
       "  </tbody>\n",
       "</table>\n",
       "<p>89 rows × 4 columns</p>\n",
       "</div>"
      ],
      "text/plain": [
       "              D    W        ID        MT\n",
       "0    442.525705   20  5.467689  1109.506\n",
       "1    457.787068   60  3.931642  1273.220\n",
       "2    899.093988  100  4.168472  1684.354\n",
       "3   1449.593736   60  5.594542  1582.688\n",
       "4   1355.389981   20  7.082564  2196.954\n",
       "..          ...  ...       ...       ...\n",
       "84   458.132077  100  3.195764  1538.216\n",
       "85   389.790970   60  3.699666  1359.228\n",
       "86  1154.291124   60  5.265901  1851.240\n",
       "87   626.247555  100  3.646733  1688.028\n",
       "88   617.728905  100  3.626974  1235.558\n",
       "\n",
       "[89 rows x 4 columns]"
      ]
     },
     "execution_count": 9,
     "metadata": {},
     "output_type": "execute_result"
    }
   ],
   "source": [
    "data = {'D': [], 'W': [], 'ID': [], 'MT': []}\n",
    "for m in models:\n",
    "    data['D'].append(m.D)\n",
    "    data['W'].append(m.W)\n",
    "    data['ID'].append(m.ID)\n",
    "    data['MT'].append(m.MT_in_millis)\n",
    "df = pd.DataFrame(data=data)\n",
    "df"
   ]
  },
  {
   "cell_type": "code",
   "execution_count": 10,
   "metadata": {},
   "outputs": [
    {
     "data": {
      "text/plain": [
       "{20, 60, 100}"
      ]
     },
     "execution_count": 10,
     "metadata": {},
     "output_type": "execute_result"
    }
   ],
   "source": [
    "widths = set([m.W for m in models])\n",
    "widths"
   ]
  },
  {
   "cell_type": "code",
   "execution_count": 11,
   "metadata": {},
   "outputs": [],
   "source": [
    "%matplotlib inline\n",
    "import matplotlib.pyplot as plt\n",
    "import matplotlib"
   ]
  },
  {
   "cell_type": "code",
   "execution_count": 12,
   "metadata": {},
   "outputs": [
    {
     "data": {
      "text/plain": [
       "[6.0, 4.0]"
      ]
     },
     "execution_count": 12,
     "metadata": {},
     "output_type": "execute_result"
    }
   ],
   "source": [
    "matplotlib.rcParams['figure.figsize']"
   ]
  },
  {
   "cell_type": "code",
   "execution_count": 13,
   "metadata": {},
   "outputs": [],
   "source": [
    "matplotlib.rcParams['figure.figsize'] = [12, 8]"
   ]
  },
  {
   "cell_type": "code",
   "execution_count": 14,
   "metadata": {},
   "outputs": [
    {
     "data": {
      "text/plain": [
       "4.816399691624198"
      ]
     },
     "execution_count": 14,
     "metadata": {},
     "output_type": "execute_result"
    }
   ],
   "source": [
    "df['ID'].mean()"
   ]
  },
  {
   "cell_type": "code",
   "execution_count": 15,
   "metadata": {},
   "outputs": [
    {
     "data": {
      "text/html": [
       "<div>\n",
       "<style scoped>\n",
       "    .dataframe tbody tr th:only-of-type {\n",
       "        vertical-align: middle;\n",
       "    }\n",
       "\n",
       "    .dataframe tbody tr th {\n",
       "        vertical-align: top;\n",
       "    }\n",
       "\n",
       "    .dataframe thead th {\n",
       "        text-align: right;\n",
       "    }\n",
       "</style>\n",
       "<table border=\"1\" class=\"dataframe\">\n",
       "  <thead>\n",
       "    <tr style=\"text-align: right;\">\n",
       "      <th></th>\n",
       "      <th>D</th>\n",
       "      <th>ID</th>\n",
       "      <th>MT</th>\n",
       "    </tr>\n",
       "    <tr>\n",
       "      <th>W</th>\n",
       "      <th></th>\n",
       "      <th></th>\n",
       "      <th></th>\n",
       "    </tr>\n",
       "  </thead>\n",
       "  <tbody>\n",
       "    <tr>\n",
       "      <th>20</th>\n",
       "      <td>843.127578</td>\n",
       "      <td>6.215251</td>\n",
       "      <td>1964.482200</td>\n",
       "    </tr>\n",
       "    <tr>\n",
       "      <th>60</th>\n",
       "      <td>798.822448</td>\n",
       "      <td>4.592873</td>\n",
       "      <td>1462.410733</td>\n",
       "    </tr>\n",
       "    <tr>\n",
       "      <th>100</th>\n",
       "      <td>723.879028</td>\n",
       "      <td>3.600547</td>\n",
       "      <td>1600.858483</td>\n",
       "    </tr>\n",
       "  </tbody>\n",
       "</table>\n",
       "</div>"
      ],
      "text/plain": [
       "              D        ID           MT\n",
       "W                                     \n",
       "20   843.127578  6.215251  1964.482200\n",
       "60   798.822448  4.592873  1462.410733\n",
       "100  723.879028  3.600547  1600.858483"
      ]
     },
     "execution_count": 15,
     "metadata": {},
     "output_type": "execute_result"
    }
   ],
   "source": [
    "df.groupby(['W']).mean()"
   ]
  },
  {
   "cell_type": "code",
   "execution_count": 16,
   "metadata": {},
   "outputs": [
    {
     "data": {
      "text/html": [
       "<div>\n",
       "<style scoped>\n",
       "    .dataframe tbody tr th:only-of-type {\n",
       "        vertical-align: middle;\n",
       "    }\n",
       "\n",
       "    .dataframe tbody tr th {\n",
       "        vertical-align: top;\n",
       "    }\n",
       "\n",
       "    .dataframe thead th {\n",
       "        text-align: right;\n",
       "    }\n",
       "</style>\n",
       "<table border=\"1\" class=\"dataframe\">\n",
       "  <thead>\n",
       "    <tr style=\"text-align: right;\">\n",
       "      <th></th>\n",
       "      <th>D</th>\n",
       "      <th>ID</th>\n",
       "      <th>MT</th>\n",
       "    </tr>\n",
       "    <tr>\n",
       "      <th>W</th>\n",
       "      <th></th>\n",
       "      <th></th>\n",
       "      <th></th>\n",
       "    </tr>\n",
       "  </thead>\n",
       "  <tbody>\n",
       "    <tr>\n",
       "      <th>20</th>\n",
       "      <td>669.599816</td>\n",
       "      <td>6.065225</td>\n",
       "      <td>2008.876</td>\n",
       "    </tr>\n",
       "    <tr>\n",
       "      <th>60</th>\n",
       "      <td>725.415676</td>\n",
       "      <td>4.593681</td>\n",
       "      <td>1379.169</td>\n",
       "    </tr>\n",
       "    <tr>\n",
       "      <th>100</th>\n",
       "      <td>670.663105</td>\n",
       "      <td>3.745588</td>\n",
       "      <td>1641.324</td>\n",
       "    </tr>\n",
       "  </tbody>\n",
       "</table>\n",
       "</div>"
      ],
      "text/plain": [
       "              D        ID        MT\n",
       "W                                  \n",
       "20   669.599816  6.065225  2008.876\n",
       "60   725.415676  4.593681  1379.169\n",
       "100  670.663105  3.745588  1641.324"
      ]
     },
     "execution_count": 16,
     "metadata": {},
     "output_type": "execute_result"
    }
   ],
   "source": [
    "df.groupby(['W']).median()"
   ]
  },
  {
   "cell_type": "code",
   "execution_count": 17,
   "metadata": {},
   "outputs": [],
   "source": [
    "from sklearn.linear_model import LinearRegression"
   ]
  },
  {
   "cell_type": "code",
   "execution_count": 18,
   "metadata": {},
   "outputs": [
    {
     "data": {
      "image/png": "[encoded data removed]",
      "text/plain": [
       "<Figure size 864x576 with 1 Axes>"
      ]
     },
     "metadata": {
      "needs_background": "light"
     },
     "output_type": "display_data"
    }
   ],
   "source": [
    "for width in widths:\n",
    "    \n",
    "    _df = df[df['W'] == width]\n",
    "    \n",
    "    model = LinearRegression()\n",
    "    model.fit(_df[['ID']], _df[['MT']])\n",
    "    \n",
    "    min_x = min(df['ID'])\n",
    "    max_x = max(df['ID'])\n",
    "    predicted = model.predict([[min_x], [max_x]])\n",
    "    \n",
    "    plt.scatter(x=_df['ID'], y=_df['MT'])\n",
    "    plt.plot([min_x, max_x], predicted)\n",
    "    \n",
    "plt.legend(widths)\n",
    "plt.show()"
   ]
  }
 ],
 "metadata": {
  "kernelspec": {
   "display_name": "Python 3",
   "language": "python",
   "name": "python3"
  },
  "language_info": {
   "codemirror_mode": {
    "name": "ipython",
    "version": 3
   },
   "file_extension": ".py",
   "mimetype": "text/x-python",
   "name": "python",
   "nbconvert_exporter": "python",
   "pygments_lexer": "ipython3",
   "version": "3.7.6"
  }
 },
 "nbformat": 4,
 "nbformat_minor": 2
}
