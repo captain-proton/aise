{
 "cells": [
  {
   "cell_type": "code",
   "execution_count": 1,
   "metadata": {
    "collapsed": false
   },
   "outputs": [],
   "source": [
    "import matplotlib.pyplot as plt\n",
    "import numpy as np\n",
    "\n",
    "from IPython.display import display, Math, Latex\n",
    "\n",
    "# print(plt.style.available)\n",
    "plt.style.use('ggplot')"
   ]
  },
  {
   "cell_type": "markdown",
   "metadata": {},
   "source": [
    "### Übungsblatt 5\n",
    "\n",
    "#### 5.1 Hashfunktion djb2\n",
    "\n",
    "Es soll die Hashfunktion `djb2` implementiert werden. Die dafür zu verwendende Funktion ist\n",
    "\n",
    "$X_i := (a * X_{i-1}) + c_i$  (mod $M$)\n",
    "\n",
    "mit den Parametern $X_0 = 5381$, $a = 33$ und $M = 2^{32}$."
   ]
  },
  {
   "cell_type": "code",
   "execution_count": 2,
   "metadata": {
    "collapsed": false
   },
   "outputs": [
    {
     "name": "stdout",
     "output_type": "stream",
     "text": [
      "djb2 of \"Hallo Welt\": 2793804081\n"
     ]
    }
   ],
   "source": [
    "def djb2(value, M=np.power(2, 32)):\n",
    "    x_i = 5381\n",
    "    for i in range(len(value)):\n",
    "        char = value[i]\n",
    "        x_i = ((33 * x_i) + ord(char)) % M\n",
    "    return x_i\n",
    "\n",
    "print('djb2 of \"Hallo Welt\": %d' % djb2('Hallo Welt'))"
   ]
  },
  {
   "cell_type": "markdown",
   "metadata": {},
   "source": [
    "#### 5.2 Test Hash"
   ]
  },
  {
   "cell_type": "code",
   "execution_count": 4,
   "metadata": {
    "collapsed": false
   },
   "outputs": [
    {
     "name": "stdout",
     "output_type": "stream",
     "text": [
      "Kollisionen:\n"
     ]
    },
    {
     "data": {
      "text/latex": [
       "$$M = 2^{16}: 181$$"
      ],
      "text/plain": [
       "<IPython.core.display.Math object>"
      ]
     },
     "metadata": {},
     "output_type": "display_data"
    },
    {
     "data": {
      "text/latex": [
       "$$M = 2^{32}: 0$$"
      ],
      "text/plain": [
       "<IPython.core.display.Math object>"
      ]
     },
     "metadata": {},
     "output_type": "display_data"
    },
    {
     "name": "stdout",
     "output_type": "stream",
     "text": [
      "(6, ['TWILA'])\n",
      "(13, ['AUDIE', 'LORRI'])\n",
      "(17, ['ULRIKE'])\n",
      "(20, ['ERICKA'])\n",
      "(33, ['ALAN'])\n",
      "(53, ['ALBA'])\n",
      "(57, ['ALETHEA'])\n",
      "(85, ['TAMIE'])\n",
      "(91, ['MAMMIE'])\n",
      "(94, ['ALEXANDRIA'])\n"
     ]
    },
    {
     "data": {
      "image/png": "[encoded data removed]",
      "text/plain": [
       "<matplotlib.figure.Figure at 0x7fbb15e4f9e8>"
      ]
     },
     "metadata": {},
     "output_type": "display_data"
    }
   ],
   "source": [
    "import matplotlib.mlab as mlab\n",
    "from itertools import groupby\n",
    "\n",
    "dht = {\n",
    "    16: [],\n",
    "    32: []\n",
    "}\n",
    "\n",
    "# hashes erstellen\n",
    "with open('exercise5_names.txt', mode='r') as names:\n",
    "    for name in names:\n",
    "        name = name.strip()\n",
    "        dht[16].append((djb2(name, np.power(2, 16)), name))\n",
    "        dht[32].append((djb2(name), name))\n",
    "\n",
    "# ausgabe der kollisionen\n",
    "def group_hashes(dht):\n",
    "    dht = sorted(dht, key=lambda k: k[0])\n",
    "    result = []\n",
    "    for k, g in groupby(dht, key=lambda k: k[0]):\n",
    "        names = list(g)\n",
    "        result.append((k, [n[1] for n in names]))\n",
    "    return result\n",
    "\n",
    "dht = {\n",
    "    16: group_hashes(dht[16]),\n",
    "    32: group_hashes(dht[32])\n",
    "}\n",
    "\n",
    "def count_hash_dups(dht):\n",
    "    count = 0\n",
    "    for _hash, names in dht:\n",
    "        if len(names) > 1:\n",
    "            count += 1\n",
    "    return count\n",
    "\n",
    "print('Kollisionen:')\n",
    "display(Math(r'M = 2^{16}: %d' % count_hash_dups(dht[16])))\n",
    "display(Math(r'M = 2^{32}: %d' % count_hash_dups(dht[32])))\n",
    "\n",
    "for i in range(10):\n",
    "    print(dht[16][i])\n",
    "\n",
    "plt.bar([x[0] for x in dht[16]], [len(y[1]) for y in dht[16]])\n",
    "plt.show()"
   ]
  },
  {
   "cell_type": "markdown",
   "metadata": {},
   "source": [
    "#### 5.3 Distanzen $\\Delta X$"
   ]
  },
  {
   "cell_type": "code",
   "execution_count": 6,
   "metadata": {
    "collapsed": false
   },
   "outputs": [
    {
     "data": {
      "image/png": "[encoded data removed]",
      "text/plain": [
       "<matplotlib.figure.Figure at 0x7fbb1932f7f0>"
      ]
     },
     "metadata": {},
     "output_type": "display_data"
    }
   ],
   "source": [
    "def ecdf(values):\n",
    "    \n",
    "    values = sorted(values)\n",
    "\n",
    "    unique_values = sorted(list(set(values)))\n",
    "\n",
    "    cumsum_values = []\n",
    "    for u in unique_values:\n",
    "        cumsum_values.append((u, len([1 for _ in values if _ <= u])))\n",
    "\n",
    "    y = np.round([c / len(values) for t, c in cumsum_values], decimals=2)\n",
    "\n",
    "    for i in range(len(unique_values)):\n",
    "        x_0 = unique_values[i]\n",
    "        x_1 = unique_values[i + 1] if i < len(unique_values) - 1 else unique_values[i] + 1\n",
    "        plt.plot([x_0, x_1], [y[i], y[i]], color='#1e88e5', linestyle='-')\n",
    "\n",
    "\n",
    "# distanzen zwischen den einzelnen hashes berechnen\n",
    "distances = []\n",
    "last_hash = -1\n",
    "for h in dht[16]:\n",
    "    current_hash = h[0]\n",
    "    if last_hash is not -1:\n",
    "        distances.append(current_hash - last_hash)\n",
    "    last_hash = current_hash\n",
    "#ecdf([h[0] for h in dht[16]])\n",
    "ecdf(distances)\n",
    "\n",
    "plt.show()"
   ]
  }
 ],
 "metadata": {
  "kernelspec": {
   "display_name": "Python 3",
   "language": "python",
   "name": "python3"
  },
  "language_info": {
   "codemirror_mode": {
    "name": "ipython",
    "version": 3
   },
   "file_extension": ".py",
   "mimetype": "text/x-python",
   "name": "python",
   "nbconvert_exporter": "python",
   "pygments_lexer": "ipython3",
   "version": "3.5.2"
  }
 },
 "nbformat": 4,
 "nbformat_minor": 1
}
