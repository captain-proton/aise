{
 "cells": [
  {
   "cell_type": "markdown",
   "metadata": {},
   "source": [
    "## Ausführung von Ping zu unterschiedlichen Hosts\n",
    "\n",
    "Zu den unterschiedlichen Hosts wird jeweils n-mal ein Ping durchgeführt und die Ausgabe in ein Tupel mit dem dazugehörigen Hostnamen gespeichert."
   ]
  },
  {
   "cell_type": "code",
   "execution_count": 3,
   "metadata": {
    "collapsed": false
   },
   "outputs": [
    {
     "name": "stdout",
     "output_type": "stream",
     "text": [
      "PING uni-due.de (132.252.185.170) 56(84) bytes of data.\n",
      "64 bytes from addce0.uni-due.de (132.252.185.170): icmp_seq=1 ttl=126 time=0.279 ms\n",
      "64 bytes from addce0.uni-due.de (132.252.185.170): icmp_seq=2 ttl=126 time=0.327 ms\n",
      "64 bytes from addce0.uni-due.de (132.252.185.170): icmp_seq=3 ttl=126 time=0.306 ms\n",
      "64 bytes from addce0.uni-due.de (132.252.185.170): icmp_seq=4 ttl=126 time=0.281 ms\n",
      "64 bytes from addce0.uni-due.de (132.252.185.170): icmp_seq=5 ttl=126 time=0.381 ms\n",
      "64 bytes from addce0.uni-due.de (132.252.185.170): icmp_seq=6 ttl=126 time=0.371 ms\n",
      "64 bytes from addce0.uni-due.de (132.252.185.170): icmp_seq=7 ttl=126 time=0.306 ms\n",
      "64 bytes from addce0.uni-due.de (132.252.185.170): icmp_seq=8 ttl=126 time=0.369 ms\n",
      "64 bytes from addce0.uni-due.de (132.252.185.170): icmp_seq=9 ttl=126 time=0.362 ms\n",
      "64 bytes from addce0.uni-due.de (132.252.185.170): icmp_seq=10 ttl=126 time=0.289 ms\n",
      "64 bytes from addce0.uni-due.de (132.252.185.170): icmp_seq=11 ttl=126 time=0.330 ms\n",
      "64 bytes from addce0.uni-due.de (132.252.185.170): icmp_seq=12 ttl=126 time=0.322 ms\n",
      "64 bytes from addce0.uni-due.de (132.252.185.170): icmp_seq=13 ttl=126 time=0.320 ms\n",
      "64 bytes from addce0.uni-due.de (132.252.185.170): icmp_seq=14 ttl=126 time=0.303 ms\n",
      "64 bytes from addce0.uni-due.de (132.252.185.170): icmp_seq=15 ttl=126 time=0.334 ms\n",
      "64 bytes from addce0.uni-due.de (132.252.185.170): icmp_seq=16 ttl=126 time=0.317 ms\n",
      "64 bytes from addce0.uni-due.de (132.252.185.170): icmp_seq=17 ttl=126 time=0.360 ms\n",
      "64 bytes from addce0.uni-due.de (132.252.185.170): icmp_seq=18 ttl=126 time=0.323 ms\n",
      "64 bytes from addce0.uni-due.de (132.252.185.170): icmp_seq=19 ttl=126 time=0.325 ms\n",
      "64 bytes from addce0.uni-due.de (132.252.185.170): icmp_seq=20 ttl=126 time=0.291 ms\n",
      "64 bytes from addce0.uni-due.de (132.252.185.170): icmp_seq=21 ttl=126 time=0.313 ms\n",
      "64 bytes from addce0.uni-due.de (132.252.185.170): icmp_seq=22 ttl=126 time=0.283 ms\n",
      "64 bytes from addce0.uni-due.de (132.252.185.170): icmp_seq=23 ttl=126 time=0.342 ms\n",
      "64 bytes from addce0.uni-due.de (132.252.185.170): icmp_seq=24 ttl=126 time=0.340 ms\n",
      "64 bytes from addce0.uni-due.de (132.252.185.170): icmp_seq=25 ttl=126 time=0.316 ms\n",
      "64 bytes from addce0.uni-due.de (132.252.185.170): icmp_seq=26 ttl=126 time=0.288 ms\n",
      "64 bytes from addce0.uni-due.de (132.252.185.170): icmp_seq=27 ttl=126 time=0.369 ms\n",
      "64 bytes from addce0.uni-due.de (132.252.185.170): icmp_seq=28 ttl=126 time=0.298 ms\n",
      "64 bytes from addce0.uni-due.de (132.252.185.170): icmp_seq=29 ttl=126 time=0.317 ms\n",
      "64 bytes from addce0.uni-due.de (132.252.185.170): icmp_seq=30 ttl=126 time=0.294 ms\n",
      "64 bytes from addce0.uni-due.de (132.252.185.170): icmp_seq=31 ttl=126 time=0.332 ms\n",
      "64 bytes from addce0.uni-due.de (132.252.185.170): icmp_seq=32 ttl=126 time=0.321 ms\n",
      "64 bytes from addce0.uni-due.de (132.252.185.170): icmp_seq=33 ttl=126 time=0.311 ms\n",
      "64 bytes from addce0.uni-due.de (132.252.185.170): icmp_seq=34 ttl=126 time=0.313 ms\n",
      "64 bytes from addce0.uni-due.de (132.252.185.170): icmp_seq=35 ttl=126 time=0.311 ms\n",
      "64 bytes from addce0.uni-due.de (132.252.185.170): icmp_seq=36 ttl=126 time=0.286 ms\n",
      "64 bytes from addce0.uni-due.de (132.252.185.170): icmp_seq=37 ttl=126 time=0.330 ms\n",
      "64 bytes from addce0.uni-due.de (132.252.185.170): icmp_seq=38 ttl=126 time=0.316 ms\n",
      "64 bytes from addce0.uni-due.de (132.252.185.170): icmp_seq=39 ttl=126 time=0.294 ms\n",
      "64 bytes from addce0.uni-due.de (132.252.185.170): icmp_seq=40 ttl=126 time=0.301 ms\n",
      "64 bytes from addce0.uni-due.de (132.252.185.170): icmp_seq=41 ttl=126 time=0.303 ms\n",
      "64 bytes from addce0.uni-due.de (132.252.185.170): icmp_seq=42 ttl=126 time=0.324 ms\n",
      "64 bytes from addce0.uni-due.de (132.252.185.170): icmp_seq=43 ttl=126 time=0.302 ms\n",
      "64 bytes from addce0.uni-due.de (132.252.185.170): icmp_seq=44 ttl=126 time=0.300 ms\n",
      "64 bytes from addce0.uni-due.de (132.252.185.170): icmp_seq=45 ttl=126 time=0.318 ms\n",
      "64 bytes from addce0.uni-due.de (132.252.185.170): icmp_seq=46 ttl=126 time=0.385 ms\n",
      "64 bytes from addce0.uni-due.de (132.252.185.170): icmp_seq=47 ttl=126 time=0.298 ms\n",
      "64 bytes from addce0.uni-due.de (132.252.185.170): icmp_seq=48 ttl=126 time=0.272 ms\n",
      "64 bytes from addce0.uni-due.de (132.252.185.170): icmp_seq=49 ttl=126 time=0.343 ms\n",
      "64 bytes from addce0.uni-due.de (132.252.185.170): icmp_seq=50 ttl=126 time=0.334 ms\n",
      "\n",
      "--- uni-due.de ping statistics ---\n",
      "50 packets transmitted, 50 received, 0% packet loss, time 48998ms\n",
      "rtt min/avg/max/mdev = 0.272/0.319/0.385/0.027 ms\n",
      "PING whitehouse.gov (23.60.203.150) 56(84) bytes of data.\n",
      "64 bytes from a23-60-203-150.deploy.static.akamaitechnologies.com (23.60.203.150): icmp_seq=1 ttl=59 time=10.3 ms\n",
      "64 bytes from a23-60-203-150.deploy.static.akamaitechnologies.com (23.60.203.150): icmp_seq=2 ttl=59 time=10.2 ms\n",
      "64 bytes from a23-60-203-150.deploy.static.akamaitechnologies.com (23.60.203.150): icmp_seq=3 ttl=59 time=10.3 ms\n",
      "64 bytes from a23-60-203-150.deploy.static.akamaitechnologies.com (23.60.203.150): icmp_seq=4 ttl=59 time=10.3 ms\n",
      "64 bytes from a23-60-203-150.deploy.static.akamaitechnologies.com (23.60.203.150): icmp_seq=5 ttl=59 time=10.3 ms\n",
      "64 bytes from a23-60-203-150.deploy.static.akamaitechnologies.com (23.60.203.150): icmp_seq=6 ttl=59 time=10.4 ms\n",
      "64 bytes from a23-60-203-150.deploy.static.akamaitechnologies.com (23.60.203.150): icmp_seq=7 ttl=59 time=10.2 ms\n",
      "64 bytes from a23-60-203-150.deploy.static.akamaitechnologies.com (23.60.203.150): icmp_seq=8 ttl=59 time=10.3 ms\n",
      "64 bytes from a23-60-203-150.deploy.static.akamaitechnologies.com (23.60.203.150): icmp_seq=9 ttl=59 time=10.3 ms\n",
      "64 bytes from a23-60-203-150.deploy.static.akamaitechnologies.com (23.60.203.150): icmp_seq=10 ttl=59 time=10.2 ms\n",
      "64 bytes from a23-60-203-150.deploy.static.akamaitechnologies.com (23.60.203.150): icmp_seq=11 ttl=59 time=10.3 ms\n",
      "64 bytes from a23-60-203-150.deploy.static.akamaitechnologies.com (23.60.203.150): icmp_seq=12 ttl=59 time=10.3 ms\n",
      "64 bytes from a23-60-203-150.deploy.static.akamaitechnologies.com (23.60.203.150): icmp_seq=13 ttl=59 time=10.3 ms\n",
      "64 bytes from a23-60-203-150.deploy.static.akamaitechnologies.com (23.60.203.150): icmp_seq=14 ttl=59 time=10.2 ms\n",
      "64 bytes from a23-60-203-150.deploy.static.akamaitechnologies.com (23.60.203.150): icmp_seq=15 ttl=59 time=10.4 ms\n",
      "64 bytes from a23-60-203-150.deploy.static.akamaitechnologies.com (23.60.203.150): icmp_seq=16 ttl=59 time=10.7 ms\n",
      "64 bytes from a23-60-203-150.deploy.static.akamaitechnologies.com (23.60.203.150): icmp_seq=17 ttl=59 time=10.3 ms\n",
      "64 bytes from a23-60-203-150.deploy.static.akamaitechnologies.com (23.60.203.150): icmp_seq=18 ttl=59 time=10.2 ms\n",
      "64 bytes from a23-60-203-150.deploy.static.akamaitechnologies.com (23.60.203.150): icmp_seq=19 ttl=59 time=10.4 ms\n",
      "64 bytes from a23-60-203-150.deploy.static.akamaitechnologies.com (23.60.203.150): icmp_seq=20 ttl=59 time=10.4 ms\n",
      "64 bytes from a23-60-203-150.deploy.static.akamaitechnologies.com (23.60.203.150): icmp_seq=21 ttl=59 time=10.2 ms\n",
      "64 bytes from a23-60-203-150.deploy.static.akamaitechnologies.com (23.60.203.150): icmp_seq=22 ttl=59 time=10.1 ms\n",
      "64 bytes from a23-60-203-150.deploy.static.akamaitechnologies.com (23.60.203.150): icmp_seq=23 ttl=59 time=10.2 ms\n",
      "64 bytes from a23-60-203-150.deploy.static.akamaitechnologies.com (23.60.203.150): icmp_seq=24 ttl=59 time=10.3 ms\n",
      "64 bytes from a23-60-203-150.deploy.static.akamaitechnologies.com (23.60.203.150): icmp_seq=25 ttl=59 time=10.2 ms\n",
      "64 bytes from a23-60-203-150.deploy.static.akamaitechnologies.com (23.60.203.150): icmp_seq=26 ttl=59 time=10.5 ms\n",
      "64 bytes from a23-60-203-150.deploy.static.akamaitechnologies.com (23.60.203.150): icmp_seq=27 ttl=59 time=10.4 ms\n",
      "64 bytes from a23-60-203-150.deploy.static.akamaitechnologies.com (23.60.203.150): icmp_seq=28 ttl=59 time=10.2 ms\n",
      "64 bytes from a23-60-203-150.deploy.static.akamaitechnologies.com (23.60.203.150): icmp_seq=29 ttl=59 time=10.2 ms\n",
      "64 bytes from a23-60-203-150.deploy.static.akamaitechnologies.com (23.60.203.150): icmp_seq=30 ttl=59 time=10.4 ms\n",
      "64 bytes from a23-60-203-150.deploy.static.akamaitechnologies.com (23.60.203.150): icmp_seq=31 ttl=59 time=10.3 ms\n",
      "64 bytes from a23-60-203-150.deploy.static.akamaitechnologies.com (23.60.203.150): icmp_seq=32 ttl=59 time=10.2 ms\n",
      "64 bytes from a23-60-203-150.deploy.static.akamaitechnologies.com (23.60.203.150): icmp_seq=33 ttl=59 time=10.3 ms\n",
      "64 bytes from a23-60-203-150.deploy.static.akamaitechnologies.com (23.60.203.150): icmp_seq=34 ttl=59 time=10.2 ms\n",
      "64 bytes from a23-60-203-150.deploy.static.akamaitechnologies.com (23.60.203.150): icmp_seq=35 ttl=59 time=10.2 ms\n",
      "64 bytes from a23-60-203-150.deploy.static.akamaitechnologies.com (23.60.203.150): icmp_seq=36 ttl=59 time=10.3 ms\n",
      "64 bytes from a23-60-203-150.deploy.static.akamaitechnologies.com (23.60.203.150): icmp_seq=37 ttl=59 time=10.2 ms\n",
      "64 bytes from a23-60-203-150.deploy.static.akamaitechnologies.com (23.60.203.150): icmp_seq=38 ttl=59 time=10.3 ms\n",
      "64 bytes from a23-60-203-150.deploy.static.akamaitechnologies.com (23.60.203.150): icmp_seq=39 ttl=59 time=10.3 ms\n",
      "64 bytes from a23-60-203-150.deploy.static.akamaitechnologies.com (23.60.203.150): icmp_seq=40 ttl=59 time=10.2 ms\n",
      "64 bytes from a23-60-203-150.deploy.static.akamaitechnologies.com (23.60.203.150): icmp_seq=41 ttl=59 time=10.3 ms\n",
      "64 bytes from a23-60-203-150.deploy.static.akamaitechnologies.com (23.60.203.150): icmp_seq=42 ttl=59 time=10.3 ms\n",
      "64 bytes from a23-60-203-150.deploy.static.akamaitechnologies.com (23.60.203.150): icmp_seq=43 ttl=59 time=10.2 ms\n",
      "64 bytes from a23-60-203-150.deploy.static.akamaitechnologies.com (23.60.203.150): icmp_seq=44 ttl=59 time=10.3 ms\n",
      "64 bytes from a23-60-203-150.deploy.static.akamaitechnologies.com (23.60.203.150): icmp_seq=45 ttl=59 time=10.3 ms\n",
      "64 bytes from a23-60-203-150.deploy.static.akamaitechnologies.com (23.60.203.150): icmp_seq=46 ttl=59 time=10.2 ms\n",
      "64 bytes from a23-60-203-150.deploy.static.akamaitechnologies.com (23.60.203.150): icmp_seq=47 ttl=59 time=11.0 ms\n",
      "64 bytes from a23-60-203-150.deploy.static.akamaitechnologies.com (23.60.203.150): icmp_seq=48 ttl=59 time=10.4 ms\n",
      "64 bytes from a23-60-203-150.deploy.static.akamaitechnologies.com (23.60.203.150): icmp_seq=49 ttl=59 time=10.4 ms\n",
      "64 bytes from a23-60-203-150.deploy.static.akamaitechnologies.com (23.60.203.150): icmp_seq=50 ttl=59 time=10.3 ms\n",
      "\n",
      "--- whitehouse.gov ping statistics ---\n",
      "50 packets transmitted, 50 received, 0% packet loss, time 49059ms\n",
      "rtt min/avg/max/mdev = 10.191/10.354/11.059/0.196 ms\n",
      "PING icmp.org (173.8.161.82) 56(84) bytes of data.\n",
      "64 bytes from 173-8-161-82-SFBA.hfc.comcastbusiness.net (173.8.161.82): icmp_seq=6 ttl=51 time=171 ms\n",
      "64 bytes from 173-8-161-82-SFBA.hfc.comcastbusiness.net (173.8.161.82): icmp_seq=9 ttl=51 time=164 ms\n",
      "64 bytes from 173-8-161-82-SFBA.hfc.comcastbusiness.net (173.8.161.82): icmp_seq=10 ttl=51 time=188 ms\n",
      "64 bytes from 173-8-161-82-SFBA.hfc.comcastbusiness.net (173.8.161.82): icmp_seq=12 ttl=51 time=165 ms\n",
      "64 bytes from 173-8-161-82-SFBA.hfc.comcastbusiness.net (173.8.161.82): icmp_seq=13 ttl=51 time=167 ms\n",
      "64 bytes from 173-8-161-82-SFBA.hfc.comcastbusiness.net (173.8.161.82): icmp_seq=15 ttl=51 time=177 ms\n",
      "64 bytes from 173-8-161-82-SFBA.hfc.comcastbusiness.net (173.8.161.82): icmp_seq=16 ttl=51 time=163 ms\n",
      "64 bytes from 173-8-161-82-SFBA.hfc.comcastbusiness.net (173.8.161.82): icmp_seq=17 ttl=51 time=164 ms\n",
      "64 bytes from 173-8-161-82-SFBA.hfc.comcastbusiness.net (173.8.161.82): icmp_seq=19 ttl=51 time=164 ms\n",
      "64 bytes from 173-8-161-82-SFBA.hfc.comcastbusiness.net (173.8.161.82): icmp_seq=25 ttl=51 time=202 ms\n",
      "64 bytes from 173-8-161-82-SFBA.hfc.comcastbusiness.net (173.8.161.82): icmp_seq=26 ttl=51 time=175 ms\n",
      "64 bytes from 173-8-161-82-SFBA.hfc.comcastbusiness.net (173.8.161.82): icmp_seq=41 ttl=51 time=165 ms\n",
      "64 bytes from 173-8-161-82-SFBA.hfc.comcastbusiness.net (173.8.161.82): icmp_seq=43 ttl=51 time=166 ms\n",
      "64 bytes from 173-8-161-82-SFBA.hfc.comcastbusiness.net (173.8.161.82): icmp_seq=46 ttl=51 time=186 ms\n",
      "64 bytes from 173-8-161-82-SFBA.hfc.comcastbusiness.net (173.8.161.82): icmp_seq=47 ttl=51 time=173 ms\n",
      "64 bytes from 173-8-161-82-SFBA.hfc.comcastbusiness.net (173.8.161.82): icmp_seq=49 ttl=51 time=174 ms\n",
      "64 bytes from 173-8-161-82-SFBA.hfc.comcastbusiness.net (173.8.161.82): icmp_seq=50 ttl=51 time=166 ms\n",
      "\n",
      "--- icmp.org ping statistics ---\n",
      "50 packets transmitted, 17 received, 66% packet loss, time 49108ms\n",
      "rtt min/avg/max/mdev = 163.775/172.851/202.871/10.544 ms\n"
     ]
    }
   ],
   "source": [
    "import subprocess\n",
    "\n",
    "hosts = ('uni-due.de', 'whitehouse.gov', 'icmp.org')\n",
    "log = []\n",
    "for host in hosts:\n",
    "    process = subprocess.Popen(['ping', '-c', \"50\", host], stdout=subprocess.PIPE)\n",
    "    for line in process.stdout:\n",
    "        # die zeile ist ein raw string, muss also dekodiert werden\n",
    "        line = line.decode('utf-8')\n",
    "        # in der zeile ist bereits ein zeilenumbruch vorhanden\n",
    "        print(line, end='')\n",
    "        log.append((host, line))"
   ]
  },
  {
   "cell_type": "markdown",
   "metadata": {},
   "source": [
    "## Parsen der Rohdaten\n",
    "\n",
    "Die Angabe der Round trip time ist gegeben durch z.B. den Text `time=166 ms`. Dieser kann durch einen regulären Ausdruck aus einer Zeile gefiltert werden."
   ]
  },
  {
   "cell_type": "code",
   "execution_count": 4,
   "metadata": {
    "collapsed": false
   },
   "outputs": [
    {
     "name": "stdout",
     "output_type": "stream",
     "text": [
      "[('uni-due.de', 0.279), ('uni-due.de', 0.327), ('uni-due.de', 0.306), ('uni-due.de', 0.281), ('uni-due.de', 0.381), ('uni-due.de', 0.371), ('uni-due.de', 0.306), ('uni-due.de', 0.369), ('uni-due.de', 0.362), ('uni-due.de', 0.289), ('uni-due.de', 0.33), ('uni-due.de', 0.322), ('uni-due.de', 0.32), ('uni-due.de', 0.303), ('uni-due.de', 0.334), ('uni-due.de', 0.317), ('uni-due.de', 0.36), ('uni-due.de', 0.323), ('uni-due.de', 0.325), ('uni-due.de', 0.291), ('uni-due.de', 0.313), ('uni-due.de', 0.283), ('uni-due.de', 0.342), ('uni-due.de', 0.34), ('uni-due.de', 0.316), ('uni-due.de', 0.288), ('uni-due.de', 0.369), ('uni-due.de', 0.298), ('uni-due.de', 0.317), ('uni-due.de', 0.294), ('uni-due.de', 0.332), ('uni-due.de', 0.321), ('uni-due.de', 0.311), ('uni-due.de', 0.313), ('uni-due.de', 0.311), ('uni-due.de', 0.286), ('uni-due.de', 0.33), ('uni-due.de', 0.316), ('uni-due.de', 0.294), ('uni-due.de', 0.301), ('uni-due.de', 0.303), ('uni-due.de', 0.324), ('uni-due.de', 0.302), ('uni-due.de', 0.3), ('uni-due.de', 0.318), ('uni-due.de', 0.385), ('uni-due.de', 0.298), ('uni-due.de', 0.272), ('uni-due.de', 0.343), ('uni-due.de', 0.334), ('whitehouse.gov', 10.3), ('whitehouse.gov', 10.2), ('whitehouse.gov', 10.3), ('whitehouse.gov', 10.3), ('whitehouse.gov', 10.3), ('whitehouse.gov', 10.4), ('whitehouse.gov', 10.2), ('whitehouse.gov', 10.3), ('whitehouse.gov', 10.3), ('whitehouse.gov', 10.2), ('whitehouse.gov', 10.3), ('whitehouse.gov', 10.3), ('whitehouse.gov', 10.3), ('whitehouse.gov', 10.2), ('whitehouse.gov', 10.4), ('whitehouse.gov', 10.7), ('whitehouse.gov', 10.3), ('whitehouse.gov', 10.2), ('whitehouse.gov', 10.4), ('whitehouse.gov', 10.4), ('whitehouse.gov', 10.2), ('whitehouse.gov', 10.1), ('whitehouse.gov', 10.2), ('whitehouse.gov', 10.3), ('whitehouse.gov', 10.2), ('whitehouse.gov', 10.5), ('whitehouse.gov', 10.4), ('whitehouse.gov', 10.2), ('whitehouse.gov', 10.2), ('whitehouse.gov', 10.4), ('whitehouse.gov', 10.3), ('whitehouse.gov', 10.2), ('whitehouse.gov', 10.3), ('whitehouse.gov', 10.2), ('whitehouse.gov', 10.2), ('whitehouse.gov', 10.3), ('whitehouse.gov', 10.2), ('whitehouse.gov', 10.3), ('whitehouse.gov', 10.3), ('whitehouse.gov', 10.2), ('whitehouse.gov', 10.3), ('whitehouse.gov', 10.3), ('whitehouse.gov', 10.2), ('whitehouse.gov', 10.3), ('whitehouse.gov', 10.3), ('whitehouse.gov', 10.2), ('whitehouse.gov', 11.0), ('whitehouse.gov', 10.4), ('whitehouse.gov', 10.4), ('whitehouse.gov', 10.3), ('icmp.org', 171.0), ('icmp.org', 164.0), ('icmp.org', 188.0), ('icmp.org', 165.0), ('icmp.org', 167.0), ('icmp.org', 177.0), ('icmp.org', 163.0), ('icmp.org', 164.0), ('icmp.org', 164.0), ('icmp.org', 202.0), ('icmp.org', 175.0), ('icmp.org', 165.0), ('icmp.org', 166.0), ('icmp.org', 186.0), ('icmp.org', 173.0), ('icmp.org', 174.0), ('icmp.org', 166.0)]\n"
     ]
    }
   ],
   "source": [
    "import re\n",
    "\n",
    "data = []\n",
    "for host, line in log:\n",
    "    # Der regulaere Ausdruck findet Zeitangaben (time=) bei Bedarf durch . getrennt\n",
    "    m = re.search('time=(\\d+(\\.\\d+)?)', line)\n",
    "    if m:\n",
    "        groups = m.groups()\n",
    "        time = float(groups[0])\n",
    "        data.append((host, time))\n",
    "print(data)"
   ]
  },
  {
   "cell_type": "markdown",
   "metadata": {},
   "source": [
    "## Statistiken zum Ping\n",
    "\n",
    "In der Aufgabenstellung war z.B. nach dem Mittelwert und der Varianz gefragt. Gerade bei der Varianz ergaben sich Schwierigkeiten. \n",
    "\n",
    "Wikipedia:\n",
    "\n",
    "> Sie beschreibt die erwartete quadratische Abweichung der Zufallsvariablen von ihrem Erwartungswert.\n",
    "\n",
    "Zum Erwartungswert ist eine entsprechende Quellenangabe vorhanden. Ansonsten ist folgendes Video zu empfehlen:\n",
    "[Zufallsgröße, Erwartungswert, Faires Spiel, ...](https://www.youtube.com/watch?v=7zJ3GYBVU6Q)\n",
    "\n",
    "Da im Beispiel alle Möglichkeiten und deren Wahrscheinlichkeit bekannt sind kann der Erwartungswert einfach bestimmt werden: $\\sum_{i \\in I} x_i P(X = x_i)$\n",
    "\n",
    "Da hier aber nicht von bekannten möglichen Werten ausgegangen wird ist eine [unkorrigierte Stichprobenvarianz](https://de.wikipedia.org/wiki/Stichprobenvarianz) das Mittel der Wahl.\n",
    "\n",
    "$s^2 = \\frac{1}{n - 1} \\sum_{i = 1}^n (x_i - \\overline{x})^2$"
   ]
  },
  {
   "cell_type": "code",
   "execution_count": 17,
   "metadata": {
    "collapsed": false
   },
   "outputs": [
    {
     "name": "stdout",
     "output_type": "stream",
     "text": [
      "              Host: icmp.org\n",
      "           Max RTT: 202.000000\n",
      "           Min RTT: 163.000000\n",
      "  Durchschnitt RTT: 172.352941\n",
      "           Varianz: 116.117647\n",
      "Standardabweichung: 10.775790\n",
      "\n",
      "              Host: uni-due.de\n",
      "           Max RTT: 0.385000\n",
      "           Min RTT: 0.272000\n",
      "  Durchschnitt RTT: 0.319000\n",
      "           Varianz: 0.000744\n",
      "Standardabweichung: 0.027279\n",
      "\n",
      "              Host: whitehouse.gov\n",
      "           Max RTT: 11.000000\n",
      "           Min RTT: 10.100000\n",
      "  Durchschnitt RTT: 10.304000\n",
      "           Varianz: 0.019984\n",
      "Standardabweichung: 0.141364\n",
      "\n"
     ]
    }
   ],
   "source": [
    "import itertools\n",
    "import numpy\n",
    "\n",
    "# Die zu gruppierenden Daten muessen zunaechst nach demselben Schluessel\n",
    "# sortiert werden, siehe http://stackoverflow.com/questions/773/how-do-i-use-pythons-itertools-groupby\n",
    "data = sorted(data, key=lambda t: t[0])\n",
    "for host, g in itertools.groupby(data, key=lambda t: t[0]):\n",
    "\n",
    "    rtt = [e[1] for e in g]\n",
    "    max_rtt = max(rtt)\n",
    "    min_rtt = min(rtt)\n",
    "    \n",
    "    # alternativer durchschnitt: sum(rtt) / len(rtt)\n",
    "    # aber achtung vor rundungsfehlern!\n",
    "    mean_rtt = numpy.mean(rtt) \n",
    "    \n",
    "    # zur varianzberechnung siehe \n",
    "    # http://www.frustfrei-lernen.de/mathematik/varianz-berechnen.html\n",
    "    variance = 1 / (len(rtt) - 1) * sum([numpy.power(x - mean_rtt, 2) for x in rtt])\n",
    "    \n",
    "    # die standardvarianz ist die wurzel der varianz\n",
    "    std_deviation = numpy.sqrt(variance)\n",
    "    \n",
    "    print('              Host: %s' % host)\n",
    "    print('           Max RTT: %f' % max_rtt)\n",
    "    print('           Min RTT: %f' % min_rtt)\n",
    "    print('  Durchschnitt RTT: %f' % mean_rtt)\n",
    "    print('           Varianz: %f' % variance)\n",
    "    print('Standardabweichung: %f' % std_deviation)\n",
    "    print()"
   ]
  },
  {
   "cell_type": "markdown",
   "metadata": {},
   "source": [
    "## Anzeige eines Histograms"
   ]
  },
  {
   "cell_type": "code",
   "execution_count": 20,
   "metadata": {
    "collapsed": false
   },
   "outputs": [
    {
     "data": {
      "image/png": "[encoded data removed]",
      "text/plain": [
       "<matplotlib.figure.Figure at 0x7f0419f4efd0>"
      ]
     },
     "metadata": {},
     "output_type": "display_data"
    }
   ],
   "source": [
    "import matplotlib.pyplot as plt\n",
    "\n",
    "times = [e[1] for e in data]\n",
    "plt.hist(times, 10, normed=1, facecolor='orange', alpha=0.75)\n",
    "\n",
    "plt.xlabel('RTT')\n",
    "plt.ylabel('Wahrscheinlichkeit')\n",
    "plt.title('Histogramm der Round trip times')\n",
    "plt.grid(True)\n",
    "plt.show()"
   ]
  },
  {
   "cell_type": "markdown",
   "metadata": {},
   "source": [
    "## CDF"
   ]
  },
  {
   "cell_type": "code",
   "execution_count": 28,
   "metadata": {
    "collapsed": false
   },
   "outputs": [
    {
     "data": {
      "image/png": "[encoded data removed]",
      "text/plain": [
       "<matplotlib.figure.Figure at 0x7f041054e780>"
      ]
     },
     "metadata": {},
     "output_type": "display_data"
    }
   ],
   "source": [
    "import scipy.stats as stats\n",
    "\n",
    "times = sorted(times)\n",
    "plt.plot(times, stats.binom.cdf(times, 50, 0.2))\n",
    "plt.show()"
   ]
  }
 ],
 "metadata": {
  "kernelspec": {
   "display_name": "Python 3",
   "language": "python",
   "name": "python3"
  },
  "language_info": {
   "codemirror_mode": {
    "name": "ipython",
    "version": 3
   },
   "file_extension": ".py",
   "mimetype": "text/x-python",
   "name": "python",
   "nbconvert_exporter": "python",
   "pygments_lexer": "ipython3",
   "version": "3.5.2"
  }
 },
 "nbformat": 4,
 "nbformat_minor": 1
}
