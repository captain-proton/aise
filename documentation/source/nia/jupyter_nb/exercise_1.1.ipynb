{
 "cells": [
  {
   "cell_type": "markdown",
   "metadata": {},
   "source": [
    "## Übung 1.1\n",
    "\n",
    "### 1.1.1\n",
    "\n",
    "#### Ausführung von Ping zu unterschiedlichen Hosts\n",
    "\n",
    "Zu den unterschiedlichen Hosts wird jeweils n-mal ein Ping durchgeführt und die Ausgabe in ein Tupel mit dem dazugehörigen Hostnamen gespeichert."
   ]
  },
  {
   "cell_type": "code",
   "execution_count": 1,
   "metadata": {
    "collapsed": false
   },
   "outputs": [
    {
     "name": "stdout",
     "output_type": "stream",
     "text": [
      "PING uni-due.de (134.91.9.50) 56(84) bytes of data.\n",
      "64 bytes from addcd0.uni-due.de (134.91.9.50): icmp_seq=1 ttl=117 time=19.5 ms\n",
      "64 bytes from addcd0.uni-due.de (134.91.9.50): icmp_seq=2 ttl=117 time=108 ms\n",
      "64 bytes from addcd0.uni-due.de (134.91.9.50): icmp_seq=3 ttl=117 time=113 ms\n",
      "64 bytes from addcd0.uni-due.de (134.91.9.50): icmp_seq=4 ttl=117 time=119 ms\n",
      "64 bytes from addcd0.uni-due.de (134.91.9.50): icmp_seq=5 ttl=117 time=108 ms\n",
      "64 bytes from addcd0.uni-due.de (134.91.9.50): icmp_seq=6 ttl=117 time=20.0 ms\n",
      "64 bytes from addcd0.uni-due.de (134.91.9.50): icmp_seq=7 ttl=117 time=24.3 ms\n",
      "64 bytes from addcd0.uni-due.de (134.91.9.50): icmp_seq=8 ttl=117 time=19.4 ms\n",
      "64 bytes from addcd0.uni-due.de (134.91.9.50): icmp_seq=9 ttl=117 time=19.9 ms\n",
      "64 bytes from addcd0.uni-due.de (134.91.9.50): icmp_seq=10 ttl=117 time=19.5 ms\n",
      "64 bytes from addcd0.uni-due.de (134.91.9.50): icmp_seq=11 ttl=117 time=19.2 ms\n",
      "64 bytes from addcd0.uni-due.de (134.91.9.50): icmp_seq=12 ttl=117 time=20.4 ms\n",
      "64 bytes from addcd0.uni-due.de (134.91.9.50): icmp_seq=13 ttl=117 time=21.7 ms\n",
      "64 bytes from addcd0.uni-due.de (134.91.9.50): icmp_seq=14 ttl=117 time=19.9 ms\n",
      "64 bytes from addcd0.uni-due.de (134.91.9.50): icmp_seq=15 ttl=117 time=19.4 ms\n",
      "64 bytes from addcd0.uni-due.de (134.91.9.50): icmp_seq=16 ttl=117 time=22.5 ms\n",
      "64 bytes from addcd0.uni-due.de (134.91.9.50): icmp_seq=17 ttl=117 time=19.7 ms\n",
      "64 bytes from addcd0.uni-due.de (134.91.9.50): icmp_seq=18 ttl=117 time=19.9 ms\n",
      "64 bytes from addcd0.uni-due.de (134.91.9.50): icmp_seq=19 ttl=117 time=19.8 ms\n",
      "64 bytes from addcd0.uni-due.de (134.91.9.50): icmp_seq=20 ttl=117 time=19.6 ms\n",
      "64 bytes from addcd0.uni-due.de (134.91.9.50): icmp_seq=21 ttl=117 time=19.8 ms\n",
      "64 bytes from addcd0.uni-due.de (134.91.9.50): icmp_seq=22 ttl=117 time=19.7 ms\n",
      "64 bytes from addcd0.uni-due.de (134.91.9.50): icmp_seq=23 ttl=117 time=20.6 ms\n",
      "64 bytes from addcd0.uni-due.de (134.91.9.50): icmp_seq=24 ttl=117 time=19.6 ms\n",
      "64 bytes from addcd0.uni-due.de (134.91.9.50): icmp_seq=25 ttl=117 time=19.6 ms\n",
      "64 bytes from addcd0.uni-due.de (134.91.9.50): icmp_seq=26 ttl=117 time=19.4 ms\n",
      "64 bytes from addcd0.uni-due.de (134.91.9.50): icmp_seq=27 ttl=117 time=19.6 ms\n",
      "64 bytes from addcd0.uni-due.de (134.91.9.50): icmp_seq=28 ttl=117 time=19.4 ms\n",
      "64 bytes from addcd0.uni-due.de (134.91.9.50): icmp_seq=29 ttl=117 time=23.1 ms\n",
      "64 bytes from addcd0.uni-due.de (134.91.9.50): icmp_seq=30 ttl=117 time=19.8 ms\n",
      "64 bytes from addcd0.uni-due.de (134.91.9.50): icmp_seq=31 ttl=117 time=20.1 ms\n",
      "64 bytes from addcd0.uni-due.de (134.91.9.50): icmp_seq=32 ttl=117 time=21.3 ms\n",
      "64 bytes from addcd0.uni-due.de (134.91.9.50): icmp_seq=33 ttl=117 time=19.8 ms\n",
      "64 bytes from addcd0.uni-due.de (134.91.9.50): icmp_seq=34 ttl=117 time=19.1 ms\n",
      "64 bytes from addcd0.uni-due.de (134.91.9.50): icmp_seq=35 ttl=117 time=21.2 ms\n",
      "64 bytes from addcd0.uni-due.de (134.91.9.50): icmp_seq=36 ttl=117 time=19.7 ms\n",
      "64 bytes from addcd0.uni-due.de (134.91.9.50): icmp_seq=37 ttl=117 time=19.1 ms\n",
      "64 bytes from addcd0.uni-due.de (134.91.9.50): icmp_seq=38 ttl=117 time=21.9 ms\n",
      "64 bytes from addcd0.uni-due.de (134.91.9.50): icmp_seq=39 ttl=117 time=19.6 ms\n",
      "64 bytes from addcd0.uni-due.de (134.91.9.50): icmp_seq=40 ttl=117 time=19.7 ms\n",
      "64 bytes from addcd0.uni-due.de (134.91.9.50): icmp_seq=41 ttl=117 time=20.3 ms\n",
      "64 bytes from addcd0.uni-due.de (134.91.9.50): icmp_seq=42 ttl=117 time=19.3 ms\n",
      "64 bytes from addcd0.uni-due.de (134.91.9.50): icmp_seq=43 ttl=117 time=22.8 ms\n",
      "64 bytes from addcd0.uni-due.de (134.91.9.50): icmp_seq=44 ttl=117 time=101 ms\n",
      "64 bytes from addcd0.uni-due.de (134.91.9.50): icmp_seq=45 ttl=117 time=20.7 ms\n",
      "64 bytes from addcd0.uni-due.de (134.91.9.50): icmp_seq=46 ttl=117 time=19.5 ms\n",
      "64 bytes from addcd0.uni-due.de (134.91.9.50): icmp_seq=47 ttl=117 time=19.5 ms\n",
      "64 bytes from addcd0.uni-due.de (134.91.9.50): icmp_seq=48 ttl=117 time=19.8 ms\n",
      "64 bytes from addcd0.uni-due.de (134.91.9.50): icmp_seq=49 ttl=117 time=19.7 ms\n",
      "64 bytes from addcd0.uni-due.de (134.91.9.50): icmp_seq=50 ttl=117 time=19.7 ms\n",
      "\n",
      "--- uni-due.de ping statistics ---\n",
      "50 packets transmitted, 50 received, 0% packet loss, time 49073ms\n",
      "rtt min/avg/max/mdev = 19.134/29.216/119.432/27.051 ms\n",
      "PING whitehouse.gov (104.124.108.211) 56(84) bytes of data.\n",
      "64 bytes from a104-124-108-211.deploy.static.akamaitechnologies.com (104.124.108.211): icmp_seq=1 ttl=59 time=16.4 ms\n",
      "64 bytes from a104-124-108-211.deploy.static.akamaitechnologies.com (104.124.108.211): icmp_seq=2 ttl=59 time=15.8 ms\n",
      "64 bytes from a104-124-108-211.deploy.static.akamaitechnologies.com (104.124.108.211): icmp_seq=3 ttl=59 time=16.1 ms\n",
      "64 bytes from a104-124-108-211.deploy.static.akamaitechnologies.com (104.124.108.211): icmp_seq=4 ttl=59 time=16.4 ms\n",
      "64 bytes from a104-124-108-211.deploy.static.akamaitechnologies.com (104.124.108.211): icmp_seq=5 ttl=59 time=15.8 ms\n",
      "64 bytes from a104-124-108-211.deploy.static.akamaitechnologies.com (104.124.108.211): icmp_seq=6 ttl=59 time=19.6 ms\n",
      "64 bytes from a104-124-108-211.deploy.static.akamaitechnologies.com (104.124.108.211): icmp_seq=7 ttl=59 time=17.0 ms\n",
      "64 bytes from a104-124-108-211.deploy.static.akamaitechnologies.com (104.124.108.211): icmp_seq=8 ttl=59 time=16.5 ms\n",
      "64 bytes from a104-124-108-211.deploy.static.akamaitechnologies.com (104.124.108.211): icmp_seq=9 ttl=59 time=17.0 ms\n",
      "64 bytes from a104-124-108-211.deploy.static.akamaitechnologies.com (104.124.108.211): icmp_seq=10 ttl=59 time=15.3 ms\n",
      "64 bytes from a104-124-108-211.deploy.static.akamaitechnologies.com (104.124.108.211): icmp_seq=11 ttl=59 time=16.2 ms\n",
      "64 bytes from a104-124-108-211.deploy.static.akamaitechnologies.com (104.124.108.211): icmp_seq=12 ttl=59 time=16.5 ms\n",
      "64 bytes from a104-124-108-211.deploy.static.akamaitechnologies.com (104.124.108.211): icmp_seq=13 ttl=59 time=16.5 ms\n",
      "64 bytes from a104-124-108-211.deploy.static.akamaitechnologies.com (104.124.108.211): icmp_seq=14 ttl=59 time=16.0 ms\n",
      "64 bytes from a104-124-108-211.deploy.static.akamaitechnologies.com (104.124.108.211): icmp_seq=15 ttl=59 time=15.8 ms\n",
      "64 bytes from a104-124-108-211.deploy.static.akamaitechnologies.com (104.124.108.211): icmp_seq=16 ttl=59 time=16.1 ms\n",
      "64 bytes from a104-124-108-211.deploy.static.akamaitechnologies.com (104.124.108.211): icmp_seq=17 ttl=59 time=16.3 ms\n",
      "64 bytes from a104-124-108-211.deploy.static.akamaitechnologies.com (104.124.108.211): icmp_seq=18 ttl=59 time=16.3 ms\n",
      "64 bytes from a104-124-108-211.deploy.static.akamaitechnologies.com (104.124.108.211): icmp_seq=19 ttl=59 time=16.6 ms\n",
      "64 bytes from a104-124-108-211.deploy.static.akamaitechnologies.com (104.124.108.211): icmp_seq=20 ttl=59 time=16.7 ms\n",
      "64 bytes from a104-124-108-211.deploy.static.akamaitechnologies.com (104.124.108.211): icmp_seq=21 ttl=59 time=19.6 ms\n",
      "64 bytes from a104-124-108-211.deploy.static.akamaitechnologies.com (104.124.108.211): icmp_seq=22 ttl=59 time=16.0 ms\n",
      "64 bytes from a104-124-108-211.deploy.static.akamaitechnologies.com (104.124.108.211): icmp_seq=23 ttl=59 time=16.0 ms\n",
      "64 bytes from a104-124-108-211.deploy.static.akamaitechnologies.com (104.124.108.211): icmp_seq=24 ttl=59 time=16.6 ms\n",
      "64 bytes from a104-124-108-211.deploy.static.akamaitechnologies.com (104.124.108.211): icmp_seq=25 ttl=59 time=15.8 ms\n",
      "64 bytes from a104-124-108-211.deploy.static.akamaitechnologies.com (104.124.108.211): icmp_seq=26 ttl=59 time=16.3 ms\n",
      "64 bytes from a104-124-108-211.deploy.static.akamaitechnologies.com (104.124.108.211): icmp_seq=27 ttl=59 time=16.4 ms\n",
      "64 bytes from a104-124-108-211.deploy.static.akamaitechnologies.com (104.124.108.211): icmp_seq=28 ttl=59 time=17.1 ms\n",
      "64 bytes from a104-124-108-211.deploy.static.akamaitechnologies.com (104.124.108.211): icmp_seq=29 ttl=59 time=16.5 ms\n",
      "64 bytes from a104-124-108-211.deploy.static.akamaitechnologies.com (104.124.108.211): icmp_seq=30 ttl=59 time=16.5 ms\n",
      "64 bytes from a104-124-108-211.deploy.static.akamaitechnologies.com (104.124.108.211): icmp_seq=31 ttl=59 time=18.6 ms\n",
      "64 bytes from a104-124-108-211.deploy.static.akamaitechnologies.com (104.124.108.211): icmp_seq=32 ttl=59 time=16.4 ms\n",
      "64 bytes from a104-124-108-211.deploy.static.akamaitechnologies.com (104.124.108.211): icmp_seq=33 ttl=59 time=17.3 ms\n",
      "64 bytes from a104-124-108-211.deploy.static.akamaitechnologies.com (104.124.108.211): icmp_seq=34 ttl=59 time=17.9 ms\n",
      "64 bytes from a104-124-108-211.deploy.static.akamaitechnologies.com (104.124.108.211): icmp_seq=35 ttl=59 time=16.2 ms\n",
      "64 bytes from a104-124-108-211.deploy.static.akamaitechnologies.com (104.124.108.211): icmp_seq=36 ttl=59 time=16.3 ms\n",
      "64 bytes from a104-124-108-211.deploy.static.akamaitechnologies.com (104.124.108.211): icmp_seq=37 ttl=59 time=16.4 ms\n",
      "64 bytes from a104-124-108-211.deploy.static.akamaitechnologies.com (104.124.108.211): icmp_seq=38 ttl=59 time=16.2 ms\n",
      "64 bytes from a104-124-108-211.deploy.static.akamaitechnologies.com (104.124.108.211): icmp_seq=39 ttl=59 time=15.9 ms\n",
      "64 bytes from a104-124-108-211.deploy.static.akamaitechnologies.com (104.124.108.211): icmp_seq=40 ttl=59 time=18.4 ms\n",
      "64 bytes from a104-124-108-211.deploy.static.akamaitechnologies.com (104.124.108.211): icmp_seq=41 ttl=59 time=16.7 ms\n",
      "64 bytes from a104-124-108-211.deploy.static.akamaitechnologies.com (104.124.108.211): icmp_seq=42 ttl=59 time=17.1 ms\n",
      "64 bytes from a104-124-108-211.deploy.static.akamaitechnologies.com (104.124.108.211): icmp_seq=43 ttl=59 time=17.4 ms\n",
      "64 bytes from a104-124-108-211.deploy.static.akamaitechnologies.com (104.124.108.211): icmp_seq=44 ttl=59 time=16.0 ms\n",
      "64 bytes from a104-124-108-211.deploy.static.akamaitechnologies.com (104.124.108.211): icmp_seq=45 ttl=59 time=16.5 ms\n",
      "64 bytes from a104-124-108-211.deploy.static.akamaitechnologies.com (104.124.108.211): icmp_seq=46 ttl=59 time=16.1 ms\n",
      "64 bytes from a104-124-108-211.deploy.static.akamaitechnologies.com (104.124.108.211): icmp_seq=47 ttl=59 time=16.3 ms\n",
      "64 bytes from a104-124-108-211.deploy.static.akamaitechnologies.com (104.124.108.211): icmp_seq=48 ttl=59 time=15.9 ms\n",
      "64 bytes from a104-124-108-211.deploy.static.akamaitechnologies.com (104.124.108.211): icmp_seq=49 ttl=59 time=16.4 ms\n",
      "64 bytes from a104-124-108-211.deploy.static.akamaitechnologies.com (104.124.108.211): icmp_seq=50 ttl=59 time=16.1 ms\n",
      "\n",
      "--- whitehouse.gov ping statistics ---\n",
      "50 packets transmitted, 50 received, 0% packet loss, time 49071ms\n",
      "rtt min/avg/max/mdev = 15.384/16.651/19.692/0.873 ms\n",
      "PING icmp.org (173.8.161.82) 56(84) bytes of data.\n",
      "64 bytes from 173-8-161-82-SFBA.hfc.comcastbusiness.net (173.8.161.82): icmp_seq=1 ttl=53 time=202 ms\n",
      "64 bytes from 173-8-161-82-SFBA.hfc.comcastbusiness.net (173.8.161.82): icmp_seq=2 ttl=53 time=200 ms\n",
      "64 bytes from 173-8-161-82-SFBA.hfc.comcastbusiness.net (173.8.161.82): icmp_seq=3 ttl=53 time=221 ms\n",
      "64 bytes from 173-8-161-82-SFBA.hfc.comcastbusiness.net (173.8.161.82): icmp_seq=4 ttl=53 time=252 ms\n",
      "64 bytes from 173-8-161-82-SFBA.hfc.comcastbusiness.net (173.8.161.82): icmp_seq=5 ttl=53 time=207 ms\n",
      "64 bytes from 173-8-161-82-SFBA.hfc.comcastbusiness.net (173.8.161.82): icmp_seq=6 ttl=53 time=214 ms\n",
      "64 bytes from 173-8-161-82-SFBA.hfc.comcastbusiness.net (173.8.161.82): icmp_seq=7 ttl=53 time=202 ms\n",
      "64 bytes from 173-8-161-82-SFBA.hfc.comcastbusiness.net (173.8.161.82): icmp_seq=8 ttl=53 time=191 ms\n",
      "64 bytes from 173-8-161-82-SFBA.hfc.comcastbusiness.net (173.8.161.82): icmp_seq=9 ttl=53 time=211 ms\n",
      "64 bytes from 173-8-161-82-SFBA.hfc.comcastbusiness.net (173.8.161.82): icmp_seq=10 ttl=53 time=213 ms\n",
      "64 bytes from 173-8-161-82-SFBA.hfc.comcastbusiness.net (173.8.161.82): icmp_seq=11 ttl=53 time=208 ms\n",
      "64 bytes from 173-8-161-82-SFBA.hfc.comcastbusiness.net (173.8.161.82): icmp_seq=12 ttl=53 time=217 ms\n",
      "64 bytes from 173-8-161-82-SFBA.hfc.comcastbusiness.net (173.8.161.82): icmp_seq=13 ttl=53 time=250 ms\n",
      "64 bytes from 173-8-161-82-SFBA.hfc.comcastbusiness.net (173.8.161.82): icmp_seq=14 ttl=53 time=203 ms\n",
      "64 bytes from 173-8-161-82-SFBA.hfc.comcastbusiness.net (173.8.161.82): icmp_seq=15 ttl=53 time=191 ms\n",
      "64 bytes from 173-8-161-82-SFBA.hfc.comcastbusiness.net (173.8.161.82): icmp_seq=16 ttl=53 time=200 ms\n",
      "64 bytes from 173-8-161-82-SFBA.hfc.comcastbusiness.net (173.8.161.82): icmp_seq=17 ttl=53 time=216 ms\n",
      "64 bytes from 173-8-161-82-SFBA.hfc.comcastbusiness.net (173.8.161.82): icmp_seq=18 ttl=53 time=208 ms\n",
      "64 bytes from 173-8-161-82-SFBA.hfc.comcastbusiness.net (173.8.161.82): icmp_seq=19 ttl=53 time=192 ms\n",
      "64 bytes from 173-8-161-82-SFBA.hfc.comcastbusiness.net (173.8.161.82): icmp_seq=20 ttl=53 time=198 ms\n",
      "64 bytes from 173-8-161-82-SFBA.hfc.comcastbusiness.net (173.8.161.82): icmp_seq=21 ttl=53 time=201 ms\n",
      "64 bytes from 173-8-161-82-SFBA.hfc.comcastbusiness.net (173.8.161.82): icmp_seq=22 ttl=53 time=231 ms\n",
      "64 bytes from 173-8-161-82-SFBA.hfc.comcastbusiness.net (173.8.161.82): icmp_seq=23 ttl=53 time=207 ms\n",
      "64 bytes from 173-8-161-82-SFBA.hfc.comcastbusiness.net (173.8.161.82): icmp_seq=24 ttl=53 time=388 ms\n",
      "64 bytes from 173-8-161-82-SFBA.hfc.comcastbusiness.net (173.8.161.82): icmp_seq=25 ttl=53 time=200 ms\n",
      "64 bytes from 173-8-161-82-SFBA.hfc.comcastbusiness.net (173.8.161.82): icmp_seq=26 ttl=53 time=200 ms\n",
      "64 bytes from 173-8-161-82-SFBA.hfc.comcastbusiness.net (173.8.161.82): icmp_seq=27 ttl=53 time=247 ms\n",
      "64 bytes from 173-8-161-82-SFBA.hfc.comcastbusiness.net (173.8.161.82): icmp_seq=28 ttl=53 time=250 ms\n",
      "64 bytes from 173-8-161-82-SFBA.hfc.comcastbusiness.net (173.8.161.82): icmp_seq=29 ttl=53 time=206 ms\n",
      "64 bytes from 173-8-161-82-SFBA.hfc.comcastbusiness.net (173.8.161.82): icmp_seq=30 ttl=53 time=211 ms\n",
      "64 bytes from 173-8-161-82-SFBA.hfc.comcastbusiness.net (173.8.161.82): icmp_seq=31 ttl=53 time=217 ms\n",
      "64 bytes from 173-8-161-82-SFBA.hfc.comcastbusiness.net (173.8.161.82): icmp_seq=32 ttl=53 time=207 ms\n",
      "64 bytes from 173-8-161-82-SFBA.hfc.comcastbusiness.net (173.8.161.82): icmp_seq=33 ttl=53 time=206 ms\n",
      "64 bytes from 173-8-161-82-SFBA.hfc.comcastbusiness.net (173.8.161.82): icmp_seq=34 ttl=53 time=198 ms\n",
      "64 bytes from 173-8-161-82-SFBA.hfc.comcastbusiness.net (173.8.161.82): icmp_seq=35 ttl=53 time=204 ms\n",
      "64 bytes from 173-8-161-82-SFBA.hfc.comcastbusiness.net (173.8.161.82): icmp_seq=36 ttl=53 time=222 ms\n",
      "64 bytes from 173-8-161-82-SFBA.hfc.comcastbusiness.net (173.8.161.82): icmp_seq=37 ttl=53 time=209 ms\n",
      "64 bytes from 173-8-161-82-SFBA.hfc.comcastbusiness.net (173.8.161.82): icmp_seq=38 ttl=53 time=208 ms\n",
      "64 bytes from 173-8-161-82-SFBA.hfc.comcastbusiness.net (173.8.161.82): icmp_seq=39 ttl=53 time=192 ms\n",
      "64 bytes from 173-8-161-82-SFBA.hfc.comcastbusiness.net (173.8.161.82): icmp_seq=40 ttl=53 time=206 ms\n",
      "64 bytes from 173-8-161-82-SFBA.hfc.comcastbusiness.net (173.8.161.82): icmp_seq=41 ttl=53 time=225 ms\n",
      "64 bytes from 173-8-161-82-SFBA.hfc.comcastbusiness.net (173.8.161.82): icmp_seq=42 ttl=53 time=224 ms\n",
      "64 bytes from 173-8-161-82-SFBA.hfc.comcastbusiness.net (173.8.161.82): icmp_seq=43 ttl=53 time=225 ms\n",
      "64 bytes from 173-8-161-82-SFBA.hfc.comcastbusiness.net (173.8.161.82): icmp_seq=44 ttl=53 time=250 ms\n",
      "64 bytes from 173-8-161-82-SFBA.hfc.comcastbusiness.net (173.8.161.82): icmp_seq=45 ttl=53 time=196 ms\n",
      "64 bytes from 173-8-161-82-SFBA.hfc.comcastbusiness.net (173.8.161.82): icmp_seq=46 ttl=53 time=229 ms\n",
      "64 bytes from 173-8-161-82-SFBA.hfc.comcastbusiness.net (173.8.161.82): icmp_seq=47 ttl=53 time=218 ms\n",
      "64 bytes from 173-8-161-82-SFBA.hfc.comcastbusiness.net (173.8.161.82): icmp_seq=48 ttl=53 time=219 ms\n",
      "64 bytes from 173-8-161-82-SFBA.hfc.comcastbusiness.net (173.8.161.82): icmp_seq=49 ttl=53 time=206 ms\n",
      "64 bytes from 173-8-161-82-SFBA.hfc.comcastbusiness.net (173.8.161.82): icmp_seq=50 ttl=53 time=197 ms\n",
      "\n",
      "--- icmp.org ping statistics ---\n",
      "50 packets transmitted, 50 received, 0% packet loss, time 49062ms\n",
      "rtt min/avg/max/mdev = 191.325/216.342/388.797/29.242 ms\n"
     ]
    }
   ],
   "source": [
    "import subprocess\n",
    "\n",
    "hosts = ('uni-due.de', 'whitehouse.gov', 'icmp.org')\n",
    "log = []\n",
    "for host in hosts:\n",
    "    process = subprocess.Popen(['ping', '-c', \"50\", host], stdout=subprocess.PIPE)\n",
    "    for line in process.stdout:\n",
    "        # die zeile ist ein raw string, muss also dekodiert werden\n",
    "        line = line.decode('utf-8')\n",
    "        # in der zeile ist bereits ein zeilenumbruch vorhanden\n",
    "        print(line, end='')\n",
    "        log.append((host, line))"
   ]
  },
  {
   "cell_type": "markdown",
   "metadata": {},
   "source": [
    "#### Parsen der Rohdaten\n",
    "\n",
    "Die Angabe der Round trip time ist gegeben durch z.B. den Text `time=166 ms`. Dieser kann durch einen regulären Ausdruck aus einer Zeile gefiltert werden."
   ]
  },
  {
   "cell_type": "code",
   "execution_count": 2,
   "metadata": {
    "collapsed": false
   },
   "outputs": [
    {
     "name": "stdout",
     "output_type": "stream",
     "text": [
      "[('uni-due.de', 19.5), ('uni-due.de', 108.0), ('uni-due.de', 113.0), ('uni-due.de', 119.0), ('uni-due.de', 108.0), ('uni-due.de', 20.0), ('uni-due.de', 24.3), ('uni-due.de', 19.4), ('uni-due.de', 19.9), ('uni-due.de', 19.5), ('uni-due.de', 19.2), ('uni-due.de', 20.4), ('uni-due.de', 21.7), ('uni-due.de', 19.9), ('uni-due.de', 19.4), ('uni-due.de', 22.5), ('uni-due.de', 19.7), ('uni-due.de', 19.9), ('uni-due.de', 19.8), ('uni-due.de', 19.6), ('uni-due.de', 19.8), ('uni-due.de', 19.7), ('uni-due.de', 20.6), ('uni-due.de', 19.6), ('uni-due.de', 19.6), ('uni-due.de', 19.4), ('uni-due.de', 19.6), ('uni-due.de', 19.4), ('uni-due.de', 23.1), ('uni-due.de', 19.8), ('uni-due.de', 20.1), ('uni-due.de', 21.3), ('uni-due.de', 19.8), ('uni-due.de', 19.1), ('uni-due.de', 21.2), ('uni-due.de', 19.7), ('uni-due.de', 19.1), ('uni-due.de', 21.9), ('uni-due.de', 19.6), ('uni-due.de', 19.7), ('uni-due.de', 20.3), ('uni-due.de', 19.3), ('uni-due.de', 22.8), ('uni-due.de', 101.0), ('uni-due.de', 20.7), ('uni-due.de', 19.5), ('uni-due.de', 19.5), ('uni-due.de', 19.8), ('uni-due.de', 19.7), ('uni-due.de', 19.7), ('whitehouse.gov', 16.4), ('whitehouse.gov', 15.8), ('whitehouse.gov', 16.1), ('whitehouse.gov', 16.4), ('whitehouse.gov', 15.8), ('whitehouse.gov', 19.6), ('whitehouse.gov', 17.0), ('whitehouse.gov', 16.5), ('whitehouse.gov', 17.0), ('whitehouse.gov', 15.3), ('whitehouse.gov', 16.2), ('whitehouse.gov', 16.5), ('whitehouse.gov', 16.5), ('whitehouse.gov', 16.0), ('whitehouse.gov', 15.8), ('whitehouse.gov', 16.1), ('whitehouse.gov', 16.3), ('whitehouse.gov', 16.3), ('whitehouse.gov', 16.6), ('whitehouse.gov', 16.7), ('whitehouse.gov', 19.6), ('whitehouse.gov', 16.0), ('whitehouse.gov', 16.0), ('whitehouse.gov', 16.6), ('whitehouse.gov', 15.8), ('whitehouse.gov', 16.3), ('whitehouse.gov', 16.4), ('whitehouse.gov', 17.1), ('whitehouse.gov', 16.5), ('whitehouse.gov', 16.5), ('whitehouse.gov', 18.6), ('whitehouse.gov', 16.4), ('whitehouse.gov', 17.3), ('whitehouse.gov', 17.9), ('whitehouse.gov', 16.2), ('whitehouse.gov', 16.3), ('whitehouse.gov', 16.4), ('whitehouse.gov', 16.2), ('whitehouse.gov', 15.9), ('whitehouse.gov', 18.4), ('whitehouse.gov', 16.7), ('whitehouse.gov', 17.1), ('whitehouse.gov', 17.4), ('whitehouse.gov', 16.0), ('whitehouse.gov', 16.5), ('whitehouse.gov', 16.1), ('whitehouse.gov', 16.3), ('whitehouse.gov', 15.9), ('whitehouse.gov', 16.4), ('whitehouse.gov', 16.1), ('icmp.org', 202.0), ('icmp.org', 200.0), ('icmp.org', 221.0), ('icmp.org', 252.0), ('icmp.org', 207.0), ('icmp.org', 214.0), ('icmp.org', 202.0), ('icmp.org', 191.0), ('icmp.org', 211.0), ('icmp.org', 213.0), ('icmp.org', 208.0), ('icmp.org', 217.0), ('icmp.org', 250.0), ('icmp.org', 203.0), ('icmp.org', 191.0), ('icmp.org', 200.0), ('icmp.org', 216.0), ('icmp.org', 208.0), ('icmp.org', 192.0), ('icmp.org', 198.0), ('icmp.org', 201.0), ('icmp.org', 231.0), ('icmp.org', 207.0), ('icmp.org', 388.0), ('icmp.org', 200.0), ('icmp.org', 200.0), ('icmp.org', 247.0), ('icmp.org', 250.0), ('icmp.org', 206.0), ('icmp.org', 211.0), ('icmp.org', 217.0), ('icmp.org', 207.0), ('icmp.org', 206.0), ('icmp.org', 198.0), ('icmp.org', 204.0), ('icmp.org', 222.0), ('icmp.org', 209.0), ('icmp.org', 208.0), ('icmp.org', 192.0), ('icmp.org', 206.0), ('icmp.org', 225.0), ('icmp.org', 224.0), ('icmp.org', 225.0), ('icmp.org', 250.0), ('icmp.org', 196.0), ('icmp.org', 229.0), ('icmp.org', 218.0), ('icmp.org', 219.0), ('icmp.org', 206.0), ('icmp.org', 197.0)]\n"
     ]
    }
   ],
   "source": [
    "import re\n",
    "\n",
    "data = []\n",
    "for host, line in log:\n",
    "    # Der regulaere Ausdruck findet Zeitangaben (time=) bei Bedarf durch . getrennt\n",
    "    m = re.search('time=(\\d+(\\.\\d+)?)', line)\n",
    "    if m:\n",
    "        groups = m.groups()\n",
    "        time = float(groups[0])\n",
    "        data.append((host, time))\n",
    "print(data)"
   ]
  },
  {
   "cell_type": "markdown",
   "metadata": {},
   "source": [
    "#### Statistiken zum Ping\n",
    "\n",
    "In der Aufgabenstellung war z.B. nach dem Mittelwert und der Varianz gefragt. Gerade bei der Varianz ergaben sich Schwierigkeiten. \n",
    "\n",
    "Wikipedia:\n",
    "\n",
    "> Sie beschreibt die erwartete quadratische Abweichung der Zufallsvariablen von ihrem Erwartungswert.\n",
    "\n",
    "Zum Erwartungswert ist eine entsprechende Quellenangabe vorhanden. Ansonsten ist folgendes Video zu empfehlen:\n",
    "[Zufallsgröße, Erwartungswert, Faires Spiel, ...](https://www.youtube.com/watch?v=7zJ3GYBVU6Q)\n",
    "\n",
    "Da im Beispiel alle Möglichkeiten und deren Wahrscheinlichkeit bekannt sind kann der Erwartungswert einfach bestimmt werden: $\\sum_{i \\in I} x_i P(X = x_i)$\n",
    "\n",
    "Da hier aber nicht von bekannten möglichen Werten ausgegangen wird ist eine [unkorrigierte Stichprobenvarianz](https://de.wikipedia.org/wiki/Stichprobenvarianz) das Mittel der Wahl.\n",
    "\n",
    "$s^2 = \\frac{1}{n - 1} \\sum_{i = 1}^n (x_i - \\overline{x})^2$"
   ]
  },
  {
   "cell_type": "code",
   "execution_count": 3,
   "metadata": {
    "collapsed": false
   },
   "outputs": [
    {
     "name": "stdout",
     "output_type": "stream",
     "text": [
      "              Host: icmp.org\n",
      "           Max RTT: 388.000000\n",
      "           Min RTT: 191.000000\n",
      "  Durchschnitt RTT: 215.900000\n",
      "           Varianz: 871.765306\n",
      "Standardabweichung: 29.525672\n",
      "\n",
      "              Host: uni-due.de\n",
      "           Max RTT: 119.000000\n",
      "           Min RTT: 19.100000\n",
      "  Durchschnitt RTT: 29.142000\n",
      "           Varianz: 742.446567\n",
      "Standardabweichung: 27.247873\n",
      "\n",
      "              Host: whitehouse.gov\n",
      "           Max RTT: 19.600000\n",
      "           Min RTT: 15.300000\n",
      "  Durchschnitt RTT: 16.596000\n",
      "           Varianz: 0.771412\n",
      "Standardabweichung: 0.878301\n",
      "\n"
     ]
    }
   ],
   "source": [
    "import itertools\n",
    "import numpy\n",
    "\n",
    "# Die zu gruppierenden Daten muessen zunaechst nach demselben Schluessel\n",
    "# sortiert werden, siehe http://stackoverflow.com/questions/773/how-do-i-use-pythons-itertools-groupby\n",
    "data = sorted(data, key=lambda t: t[0])\n",
    "for host, g in itertools.groupby(data, key=lambda t: t[0]):\n",
    "\n",
    "    rtt = [e[1] for e in g]\n",
    "    max_rtt = max(rtt)\n",
    "    min_rtt = min(rtt)\n",
    "    \n",
    "    # alternativer durchschnitt: sum(rtt) / len(rtt)\n",
    "    # aber achtung vor rundungsfehlern!\n",
    "    mean_rtt = numpy.mean(rtt) \n",
    "    \n",
    "    # zur varianzberechnung siehe \n",
    "    # http://www.frustfrei-lernen.de/mathematik/varianz-berechnen.html\n",
    "    variance = 1 / (len(rtt) - 1) * sum([numpy.power(x - mean_rtt, 2) for x in rtt])\n",
    "    \n",
    "    # die standardvarianz ist die wurzel der varianz\n",
    "    std_deviation = numpy.sqrt(variance)\n",
    "    \n",
    "    print('              Host: %s' % host)\n",
    "    print('           Max RTT: %f' % max_rtt)\n",
    "    print('           Min RTT: %f' % min_rtt)\n",
    "    print('  Durchschnitt RTT: %f' % mean_rtt)\n",
    "    print('           Varianz: %f' % variance)\n",
    "    print('Standardabweichung: %f' % std_deviation)\n",
    "    print()"
   ]
  },
  {
   "cell_type": "markdown",
   "metadata": {},
   "source": [
    "#### Anzeige eines Histograms"
   ]
  },
  {
   "cell_type": "code",
   "execution_count": 4,
   "metadata": {
    "collapsed": false
   },
   "outputs": [
    {
     "data": {
      "image/png": "[encoded data removed]",
      "text/plain": [
       "<matplotlib.figure.Figure at 0x7f85d5acb9b0>"
      ]
     },
     "metadata": {},
     "output_type": "display_data"
    }
   ],
   "source": [
    "import matplotlib.pyplot as plt\n",
    "\n",
    "times = [e[1] for e in data]\n",
    "plt.hist(times, 10, normed=1, facecolor='orange', alpha=0.75)\n",
    "\n",
    "plt.xlabel('RTT')\n",
    "plt.ylabel('Wahrscheinlichkeit')\n",
    "plt.title('Histogramm der Round trip times')\n",
    "plt.grid(True)\n",
    "plt.show()"
   ]
  },
  {
   "cell_type": "markdown",
   "metadata": {},
   "source": [
    "#### CDF"
   ]
  },
  {
   "cell_type": "code",
   "execution_count": 6,
   "metadata": {
    "collapsed": false
   },
   "outputs": [
    {
     "data": {
      "image/png": "[encoded data removed]",
      "text/plain": [
       "<matplotlib.figure.Figure at 0x7f85d67d1048>"
      ]
     },
     "metadata": {},
     "output_type": "display_data"
    }
   ],
   "source": [
    "import scipy.stats as stats\n",
    "\n",
    "times = sorted(times)\n",
    "plt.plot(times, stats.binom.cdf(times, 50, 0.2))\n",
    "plt.show()\n"
   ]
  },
  {
   "cell_type": "markdown",
   "metadata": {},
   "source": [
    "#### ECDF\n",
    "\n",
    "Zur Hilfe zu empirischen kumulativen Distributionsfunktionen haben die Wirtschaftswissenschaftler auch eine schöne Hilfe:\n",
    "\n",
    "https://www.youtube.com/watch?v=EtyAsjzifZU"
   ]
  },
  {
   "cell_type": "code",
   "execution_count": 7,
   "metadata": {
    "collapsed": false
   },
   "outputs": [
    {
     "data": {
      "image/png": "[encoded data removed]",
      "text/plain": [
       "<matplotlib.figure.Figure at 0x7f85cd3d4c50>"
      ]
     },
     "metadata": {},
     "output_type": "display_data"
    }
   ],
   "source": [
    "xs = sorted(times)\n",
    "ys = numpy.arange(1, len(xs)+1)/float(len(xs))\n",
    "\n",
    "# help(numpy.arange)\n",
    "# print(ys)\n",
    "\n",
    "plt.plot(xs, ys)\n",
    "plt.show()"
   ]
  },
  {
   "cell_type": "markdown",
   "metadata": {},
   "source": [
    "### 1.1.2\n",
    "\n",
    "Es sollte simuliert werden wie die Gesamtverlustwahrscheinlichkeit bei einer zweiteiligen Strecke mit jeweils Teilverlustwahrscheinlichkeiten von $p_{ab} = 1\\%$ und $p_{bc} = 2\\%$ sind. Über einen Ereignisbaum kann man sich das ganz gut bildlich vorstellen.\n",
    "\n",
    "Insgesamt bestehen $100^2$ Möglichkeiten. Bei einer von 100 Möglichkeiten geht das Paket auf der ersten Teilstrecke verloren. Nach jeder dieser 100 Möglichkeiten gibt es noch einmal 100 Möglichkeiten in denen das Paket verloren gehen kann. Am ersten Baum gibt es eine Möglichkeit des Paketverlustes. Daraus folgen für die Gesamtverlustwahrscheinlichkeit 100 Fehlschläge. Für jede andere der 99 Möglichkeiten gibt es 2 Möglichkeiten in denen das Paket widerum verloren gehen kann.\n",
    "\n",
    "Demzufolge ist die Gesamtwahrscheinlichkeit die Wahrscheinlichkeit der ersten Strecke (0.01) plus die Wahrscheinlichkeit der zweiten Strecke (0.02) minus der Anteil der auf der ersten Strecke eh schon in die Hose geht.\n",
    "\n",
    "Siehe: http://www.mathematik-wissen.de/mehrstufige_zufallsexperimente.htm\n",
    "\n",
    "Bei n Teilstrecken beträgt also die Gesamtverlustwahrscheinlichkeit immer die Teilverlustwahrscheinlichkeit des Vorgängers + diese Teilverlustwahrscheinlichkeit * (1 - Teilverlustwahrscheinlichkeit des Vorgängers)\n",
    "\n",
    "$P(X) = \\sum_{i = 1}^{n} P(x_{i}) * 1 - P(x_{i - 1})$\n",
    "\n",
    "wobei gilt $P(0) = P(0)$"
   ]
  },
  {
   "cell_type": "code",
   "execution_count": 8,
   "metadata": {
    "collapsed": false
   },
   "outputs": [
    {
     "name": "stdout",
     "output_type": "stream",
     "text": [
      "Verlust: 2.0000% bei      100 Paketen\n",
      "Verlust: 3.7000% bei     1000 Paketen\n",
      "Verlust: 2.5400% bei    10000 Paketen\n",
      "Verlust: 2.9843% bei  1000000 Paketen\n",
      "\n",
      "Bei einem kalkulierten Verlust von: 2.9800%\n"
     ]
    }
   ],
   "source": [
    "import random\n",
    "\n",
    "iterations = (100, 1000, 10000, 1000000)\n",
    "loss_ab = 0.01\n",
    "loss_bc = 0.02\n",
    "\n",
    "for i in iterations:\n",
    "    # 0 <= random.random() < 1\n",
    "    # 1 fuer pakete, die erfolgreich sind, 0 fuer fehlschlaege\n",
    "    # filterung a -> b\n",
    "    pakets = [1 if random.random() >= loss_ab else 0 for x in range(0, i)]\n",
    "    # filterung b -> c\n",
    "    pakets = [1 if random.random() >= loss_bc and p else 0 for p in pakets]\n",
    "    \n",
    "    print('Verlust: {:3.4f}% bei {:8d} Paketen'.format((1 - float(sum(pakets)) / i) * 100, i))\n",
    "    \n",
    "print('\\nBei einem kalkulierten Verlust von: {:3.4f}%'.format((0.01 + 0.02 * (1 - 0.01)) * 100))\n",
    "    "
   ]
  },
  {
   "cell_type": "markdown",
   "metadata": {},
   "source": [
    "Sollten n beliebige Strecken mit gegebenen Verlustwahrscheinlichkeiten gegeben sein, kann die folgende Methode verwendet werden:"
   ]
  },
  {
   "cell_type": "code",
   "execution_count": 9,
   "metadata": {
    "collapsed": false
   },
   "outputs": [
    {
     "name": "stdout",
     "output_type": "stream",
     "text": [
      "0.0298\n",
      "0.832\n"
     ]
    }
   ],
   "source": [
    "def loss(p_i):\n",
    "    p_i = list(p_i)\n",
    "    if len(p_i) < 2:\n",
    "        return p_i[0]\n",
    "    \n",
    "    _p = []\n",
    "    # P(0) hinzufuegen\n",
    "    _p.append(p_i[0])\n",
    "    \n",
    "    for i in range(1, len(p_i)):\n",
    "        # alle anderen wahrscheinlichkeiten basieren auch auf dem vorgaenger\n",
    "        _p.append(p_i[i] * (1 - sum(_p)))\n",
    "        \n",
    "    return sum(_p)\n",
    "\n",
    "print(loss((0.01, 0.02)))\n",
    "print(loss((0.5, 0.4, 0.3, 0.2)))"
   ]
  }
 ],
 "metadata": {
  "kernelspec": {
   "display_name": "Python 3",
   "language": "python",
   "name": "python3"
  },
  "language_info": {
   "codemirror_mode": {
    "name": "ipython",
    "version": 3
   },
   "file_extension": ".py",
   "mimetype": "text/x-python",
   "name": "python",
   "nbconvert_exporter": "python",
   "pygments_lexer": "ipython3",
   "version": "3.5.2"
  }
 },
 "nbformat": 4,
 "nbformat_minor": 1
}
