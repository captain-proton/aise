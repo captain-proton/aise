{
 "cells": [
  {
   "cell_type": "markdown",
   "metadata": {},
   "source": [
    "### Mittelwertanalyse"
   ]
  },
  {
   "cell_type": "code",
   "execution_count": 1,
   "metadata": {
    "collapsed": false
   },
   "outputs": [],
   "source": [
    "import matplotlib.pyplot as plt\n",
    "import numpy as np\n",
    "\n",
    "plt.style.use('ggplot')"
   ]
  },
  {
   "cell_type": "code",
   "execution_count": 2,
   "metadata": {
    "collapsed": false
   },
   "outputs": [
    {
     "data": {
      "image/png": "[encoded data removed]",
      "text/plain": [
       "<matplotlib.figure.Figure at 0x7f7064a2a8d0>"
      ]
     },
     "metadata": {},
     "output_type": "display_data"
    }
   ],
   "source": [
    "# wiedergabe und stalling im video\n",
    "plt.plot([0, 1], [0, 1], color='#e53935', linestyle='--', label='$\\lambda$\\nstalling')\n",
    "plt.plot([1, 1.5], [1, 0], color='#1e88e5', label='$\\lambda - \\mu$\\nplaying')\n",
    "plt.plot([1.5, 2.5], [0, 1], color='#e53935', linestyle='--')\n",
    "plt.plot([2.5, 3], [1, 0], color='#1e88e5')\n",
    "\n",
    "# threshold = p\n",
    "plt.plot([0, 3], [1, 1], color='#43a047')\n",
    "\n",
    "# zeitpunkte ab denen wiedergegeben werden kann oder pausiert wird\n",
    "plt.xticks([0, 1, 1.5, 2.5, 3], ['0', '$t_1$', '$t_2$', '$t_2 + t_1$', '$2t_2$'])\n",
    "plt.yticks([0, 1], ['0', '$p$'])\n",
    "\n",
    "plt.xlim(0, 3)\n",
    "plt.ylim(0, 1.5)\n",
    "plt.gca().set_aspect('equal', adjustable='box')\n",
    "\n",
    "plt.xlabel('time $t$')\n",
    "plt.ylabel('buffer status X')\n",
    "\n",
    "plt.legend(bbox_to_anchor=(1.05, 1), loc=2, borderaxespad=0.)\n",
    "\n",
    "plt.show()"
   ]
  },
  {
   "cell_type": "markdown",
   "metadata": {},
   "source": [
    "#### Was bedeuten $\\lambda$ und $\\mu$?\n",
    "\n",
    "$\\lambda$: Downloadrate. Die Zeit ($t_1$) um den Buffer zu füllen, z.B. in Bit\n",
    "$\\mu$: Videorate. Durchschnittliche Videorate, z.B. in Bit\n",
    "\n",
    "$\\lambda - \\mu$: Wenn $\\mu$ > $\\lambda$ tritt wieder Stalling ein. Die Videobitrate ist größer als die Downloadrate.\n",
    "\n",
    "#### Wie ist die durchschnittliche Stallinglänge?\n",
    "\n",
    "Da Stalling- und Abspielrate jeweils konstant kann die durchschnittliche Stallinglänge durch $t_1$ berechnet werden. $t_1$ berechnet sind dabei als \n",
    "\n",
    "$t_1 = \\dfrac{p}{\\lambda}$\n",
    "\n",
    "Die durchschnittliche Stallingrate ist\n",
    "\n",
    "$avg_{stalling} = \\dfrac{n * t_1}{n} = L$\n",
    "\n",
    "$L$ ist die Länge des Videos. Es wird hierbei vernachlässigt, dass der Nutzer während Stalling oder dem Abspielvorgang das Video schließt.\n",
    "\n",
    "#### Wie ist die Stalling ratio?\n",
    "\n",
    "Die durchschnittliche Stallingrate, also die Zeit in der Stalling auftritt gegen die Zeit in der das Video abgespielt werden kann ist\n",
    "\n",
    "$\\dfrac{t_1}{t_2}$\n",
    "\n",
    "$t_2$ kann wie $t_1$ berechnet werden und ist somit \n",
    "\n",
    "$t_2 = -\\dfrac{p}{\\lambda - \\mu} + t_1$\n",
    "\n",
    "Das negative Vorzeichen muss hinzugefügt werden, da $\\lambda - \\mu$ negativ ist und die Zeit nicht negativ werden kann. $t_1$ wird hinzugerechnet, da ansonsten lediglich die Zeit von $t_1$ bis $t_2$ berechnet wird. Daraus folgt:\n",
    "\n",
    "$\\dfrac{t_1}{t_2} = \\dfrac{\\dfrac{p}{\\lambda}}{-\\dfrac{p}{\\lambda - \\mu} + \\dfrac{p}{\\lambda}}$\n",
    "\n",
    "$\\equiv \\dfrac{p}{\\lambda(-\\dfrac{p}{\\lambda - \\mu} + \\dfrac{p}{\\lambda})}$\n",
    "\n",
    "$\\equiv \\dfrac{p}{-\\dfrac{p \\lambda}{\\lambda - \\mu} + p}$\n",
    "\n",
    "$\\equiv \\dfrac{p}{p(-\\dfrac{\\lambda}{\\lambda - \\mu} + 1)}$\n",
    "\n",
    "$\\equiv \\dfrac{1}{(-\\dfrac{\\lambda}{\\lambda - \\mu} + 1)}$\n",
    "\n",
    "$\\equiv \\dfrac{1}{-\\dfrac{\\lambda}{\\lambda - \\mu} + \\dfrac{\\lambda - \\mu}{\\lambda - \\mu}}$ für $\\lambda - \\mu \\ne 0$\n",
    "\n",
    "$\\equiv \\dfrac{1}{\\dfrac{-\\lambda +\\lambda - \\mu}{\\lambda - \\mu}}$\n",
    "\n",
    "$\\equiv \\dfrac{\\lambda - \\mu}{- \\mu} \\equiv \\dfrac{\\mu - \\lambda}{\\mu}$\n",
    "\n",
    "#### Wie ist die Stalling Frequenz?\n",
    "\n",
    "$\\dfrac{1}{t_2 - t_1} \\equiv \\dfrac{\\mu - \\lambda}{p}$"
   ]
  }
 ],
 "metadata": {
  "kernelspec": {
   "display_name": "Python 3",
   "language": "python",
   "name": "python3"
  },
  "language_info": {
   "codemirror_mode": {
    "name": "ipython",
    "version": 3
   },
   "file_extension": ".py",
   "mimetype": "text/x-python",
   "name": "python",
   "nbconvert_exporter": "python",
   "pygments_lexer": "ipython3",
   "version": "3.5.2"
  }
 },
 "nbformat": 4,
 "nbformat_minor": 1
}
