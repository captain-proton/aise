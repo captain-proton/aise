{
 "cells": [
  {
   "cell_type": "markdown",
   "metadata": {},
   "source": [
    "# Problem 1.1: Application Layer Rerouting\n",
    "\n",
    "Die kompletten Quellen sind auf [Github](https://github.com/captain-proton/aise/blob/master/nia/pycharm/exercise_1.py \"NIA exercise 1\") zu finden\n",
    "\n",
    "### Programm"
   ]
  },
  {
   "cell_type": "code",
   "execution_count": 1,
   "metadata": {
    "collapsed": false
   },
   "outputs": [],
   "source": [
    "import itertools\n",
    "import os\n",
    "import re\n",
    "import subprocess\n",
    "import numpy\n",
    "import matplotlib.pyplot as plt\n",
    "import scipy.stats as stats"
   ]
  },
  {
   "cell_type": "markdown",
   "metadata": {},
   "source": [
    "#### Konfiguration"
   ]
  },
  {
   "cell_type": "code",
   "execution_count": 2,
   "metadata": {
    "collapsed": false
   },
   "outputs": [],
   "source": [
    "class Config(object):\n",
    "    def __init__(self):\n",
    "        super().__init__()\n",
    "\n",
    "conf = Config()\n",
    "conf.hosts = (\n",
    "    'uni-due.de',\n",
    "    'whitehouse.gov',\n",
    "    'icmp.org',\n",
    ")\n",
    "conf.log = os.path.join(os.getcwd(), 'ping.stdout.log')\n",
    "conf.num_pings = 100\n",
    "conf.histogram_bins = 20"
   ]
  },
  {
   "cell_type": "markdown",
   "metadata": {},
   "source": [
    "#### Hilfsfunktionen"
   ]
  },
  {
   "cell_type": "code",
   "execution_count": 3,
   "metadata": {
    "collapsed": false
   },
   "outputs": [],
   "source": [
    "def __read_rtt(line: str):\n",
    "    \"\"\"\n",
    "    Tries to read the ``time=...`` value with its unit that is normally output by a ping result.\n",
    "\n",
    "    Example:\n",
    "    \n",
    "    ``64 bytes from addce0.uni-due.de (132.252.185.170): icmp_seq=1 ttl=121 time=19.7 ms``\n",
    "\n",
    "    :param line: can be any string value\n",
    "    :return: a dict with ``rtt`` and ``unit`` if a match in given line was found\n",
    "    \"\"\"\n",
    "    m = re.search('time=(\\d+(\\.\\d+)?)\\s+(\\w+)', line)\n",
    "    if m:\n",
    "        groups = m.groups()\n",
    "        time = float(groups[0])\n",
    "        unit = groups[2]\n",
    "        return {\n",
    "            'rtt': time,\n",
    "            'unit': unit\n",
    "        }\n",
    "\n",
    "\n",
    "def __read_host(line: str):\n",
    "    \"\"\"\n",
    "    Tries to read the host value of a string that is output by a ping line starting with ``PING``\n",
    "\n",
    "    Example:\n",
    "\n",
    "    ``PING uni-due.de (132.252.185.170) 56(84) bytes of data.``\n",
    "\n",
    "    :param line: any string value\n",
    "    :return: a hostname if one was found, None otherwise\n",
    "    \"\"\"\n",
    "    m = re.search('^(PING\\s)(\\S+)', line)\n",
    "    if m:\n",
    "        groups = m.groups()\n",
    "        return groups[1]\n",
    "\n",
    "def __print_min_max_mean(iterable):\n",
    "    print('{0:>12}: {1}'.format('Max', max(iterable)))\n",
    "    print('{0:>12}: {1}'.format('Min', min(iterable)))\n",
    "    print('{0:>12}: {1}'.format('Mean', numpy.round(numpy.mean(iterable), decimals=3)))\n",
    "    \n",
    "\n",
    "def __read_log():\n",
    "    rtt_log = []\n",
    "    with open(conf.log, mode='r') as log:\n",
    "        current_host = None\n",
    "        for line in log:\n",
    "            rtt = __read_rtt(line)\n",
    "            if rtt:\n",
    "                rtt['host'] = current_host\n",
    "                rtt_log.append(rtt)\n",
    "\n",
    "            host = __read_host(line)\n",
    "            if host:\n",
    "                current_host = host\n",
    "    return rtt_log"
   ]
  },
  {
   "cell_type": "markdown",
   "metadata": {},
   "source": [
    "### 1.1.1 Statistiken\n",
    "\n",
    "Es sollen die minimalen, maximalen und durchschnittlichen Werte der RTT einzelnen und zusammengenommen ausgegebene werden. Zusätzlich wird ein Histogram gezeigt."
   ]
  },
  {
   "cell_type": "code",
   "execution_count": 4,
   "metadata": {
    "collapsed": false
   },
   "outputs": [
    {
     "name": "stdout",
     "output_type": "stream",
     "text": [
      "         Max: 414.0\n",
      "         Min: 17.4\n",
      "        Mean: 84.865\n",
      "-------------------------------------------------------------------------------\n",
      "        Host: icmp.org\n",
      "\n",
      "         Max: 414.0\n",
      "         Min: 184.0\n",
      "        Mean: 215.013\n",
      "-------------------------------------------------------------------------------\n",
      "        Host: uni-due.de\n",
      "\n",
      "         Max: 111.0\n",
      "         Min: 17.4\n",
      "        Mean: 22.74\n",
      "-------------------------------------------------------------------------------\n",
      "        Host: whitehouse.gov\n",
      "\n",
      "         Max: 127.0\n",
      "         Min: 35.4\n",
      "        Mean: 43.909\n"
     ]
    }
   ],
   "source": [
    "log = __read_log()\n",
    "times = [rtt['rtt'] for rtt in log]\n",
    "\n",
    "__print_min_max_mean(times)\n",
    "\n",
    "log = sorted(log, key=lambda t: t['host'])\n",
    "for k, g in itertools.groupby(log, key=lambda t: t['host']):\n",
    "    print('-'.join(['' for i in range(0, 80)]))\n",
    "    print('{0:>12}: {1}'.format('Host', k))\n",
    "    print()\n",
    "    __print_min_max_mean([rtt['rtt'] for rtt in g])"
   ]
  },
  {
   "cell_type": "markdown",
   "metadata": {},
   "source": [
    "#### Histogram"
   ]
  },
  {
   "cell_type": "code",
   "execution_count": 5,
   "metadata": {
    "collapsed": false
   },
   "outputs": [
    {
     "data": {
      "image/png": "[encoded data removed]",
      "text/plain": [
       "<matplotlib.figure.Figure at 0x7f504493eb70>"
      ]
     },
     "metadata": {},
     "output_type": "display_data"
    }
   ],
   "source": [
    "plt.hist(times, conf.histogram_bins, normed=1, facecolor='orange', alpha=0.75)\n",
    "\n",
    "plt.xlabel('RTT')\n",
    "plt.ylabel('Probability')\n",
    "plt.title('Histogram of round trip times')\n",
    "# plt.axis([min(times), max(times), 0, 0.03])\n",
    "plt.grid(True)\n",
    "plt.show()"
   ]
  },
  {
   "cell_type": "markdown",
   "metadata": {},
   "source": [
    "#### CDF"
   ]
  },
  {
   "cell_type": "code",
   "execution_count": 6,
   "metadata": {
    "collapsed": false
   },
   "outputs": [
    {
     "data": {
      "image/png": "[encoded data removed]",
      "text/plain": [
       "<matplotlib.figure.Figure at 0x7f50449480b8>"
      ]
     },
     "metadata": {},
     "output_type": "display_data"
    }
   ],
   "source": [
    "log = __read_log()\n",
    "times = [rtt['rtt'] for rtt in log]\n",
    "cdf = stats.binom.cdf\n",
    "plt.plot(times, cdf(times, 100, 0.2))\n",
    "plt.show()"
   ]
  },
  {
   "cell_type": "markdown",
   "metadata": {},
   "source": [
    "## 1.1.3 CDF der Verzögerung D_abc"
   ]
  }
 ],
 "metadata": {
  "kernelspec": {
   "display_name": "Python 3",
   "language": "python",
   "name": "python3"
  },
  "language_info": {
   "codemirror_mode": {
    "name": "ipython",
    "version": 3
   },
   "file_extension": ".py",
   "mimetype": "text/x-python",
   "name": "python",
   "nbconvert_exporter": "python",
   "pygments_lexer": "ipython3",
   "version": "3.5.2"
  }
 },
 "nbformat": 4,
 "nbformat_minor": 1
}
